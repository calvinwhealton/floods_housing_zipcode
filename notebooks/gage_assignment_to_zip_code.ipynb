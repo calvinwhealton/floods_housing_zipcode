{
 "cells": [
  {
   "cell_type": "markdown",
   "metadata": {},
   "source": [
    "# Gage Assignment to Zip Code\n",
    "_Calvin Whealton_"
   ]
  },
  {
   "cell_type": "markdown",
   "metadata": {},
   "source": [
    "This notebook completes the calculations to find the nearest stream gages to the zip code nominal location. Most coordinates of the input files are in WGS84 units (decimal latitude and longitude). These are reprojected to a different coordinate reference system (CRS). Distance calculations are performed in US National Atlas Projection. Distances are in meters for this projection. "
   ]
  },
  {
   "cell_type": "code",
   "execution_count": null,
   "metadata": {},
   "outputs": [],
   "source": [
    "import numpy as np\n",
    "import os\n",
    "import pandas as pd\n",
    "import geopandas as gpd\n",
    "from geopy.distance import geodesic\n",
    "from shapely import wkt\n",
    "from shapely.geometry import Point"
   ]
  },
  {
   "cell_type": "markdown",
   "metadata": {},
   "source": [
    "## Zip Code Processing to point lat-long coordinates"
   ]
  },
  {
   "cell_type": "markdown",
   "metadata": {},
   "source": [
    "Reading in shapefile for zip codes as a shapefile as table. It includes the interpolation latitude and longitude of the zip code. These will be used in the distance calculation."
   ]
  },
  {
   "cell_type": "code",
   "execution_count": null,
   "metadata": {},
   "outputs": [],
   "source": [
    "os.chdir('/Users/calvinwhealton/Documents/GitHub/floods_housing_zipcode/data/geo_data/tl_2019_us_zcta510')\n",
    "zip_data = gpd.read_file('tl_2019_us_zcta510.shp')"
   ]
  },
  {
   "cell_type": "code",
   "execution_count": null,
   "metadata": {},
   "outputs": [],
   "source": [
    "zip_data.head()"
   ]
  },
  {
   "cell_type": "code",
   "execution_count": null,
   "metadata": {},
   "outputs": [],
   "source": [
    "# converting to from string (read in)  to float to do conversion later\n",
    "zip_data['x'] = zip_data['INTPTLON10'].astype(float)\n",
    "zip_data['y'] = zip_data['INTPTLAT10'].astype(float)"
   ]
  },
  {
   "cell_type": "code",
   "execution_count": null,
   "metadata": {},
   "outputs": [],
   "source": [
    "# dropping the geometry and other columns that are not needed form the shapefile\n",
    "zip_data.drop(['geometry','CLASSFP10','MTFCC10','FUNCSTAT10'],axis=1,inplace=True)"
   ]
  },
  {
   "cell_type": "code",
   "execution_count": null,
   "metadata": {},
   "outputs": [],
   "source": [
    "# using x and y values to set geometry\n",
    "zip_data_latlong = gpd.GeoDataFrame(\n",
    "                    zip_data, geometry=gpd.points_from_xy(zip_data.x, zip_data.y))"
   ]
  },
  {
   "cell_type": "code",
   "execution_count": null,
   "metadata": {},
   "outputs": [],
   "source": [
    "zip_data_latlong.head()"
   ]
  },
  {
   "cell_type": "code",
   "execution_count": null,
   "metadata": {},
   "outputs": [],
   "source": [
    "# setting to wgs84 coordinate reference system (crs)\n",
    "zip_data_latlong.crs = {'init' :\"EPSG:4269\"}"
   ]
  },
  {
   "cell_type": "code",
   "execution_count": null,
   "metadata": {},
   "outputs": [],
   "source": [
    "zip_data_latlong.crs"
   ]
  },
  {
   "cell_type": "markdown",
   "metadata": {},
   "source": [
    "## Stream Gages"
   ]
  },
  {
   "cell_type": "markdown",
   "metadata": {},
   "source": [
    "Reading in a dataset for the gages. This is supplementatry information that more columns than were needed. The values were pre-selected based on at least 20 years of peak flood data, which is used in the assignment of return periods for events."
   ]
  },
  {
   "cell_type": "code",
   "execution_count": null,
   "metadata": {},
   "outputs": [],
   "source": [
    "os.chdir('/Users/calvinwhealton/Documents/GitHub/floods_housing_zipcode/data/gage_data')\n",
    "gage_locs = pd.read_csv('usgs_supp.txt',sep='\\t',comment='#')"
   ]
  },
  {
   "cell_type": "code",
   "execution_count": null,
   "metadata": {},
   "outputs": [],
   "source": [
    "gage_locs.head()"
   ]
  },
  {
   "cell_type": "code",
   "execution_count": null,
   "metadata": {},
   "outputs": [],
   "source": [
    "# dropping locations without coordinates\n",
    "gage_locs.dropna(subset=['dec_lat_va','dec_long_va'],inplace=True)"
   ]
  },
  {
   "cell_type": "code",
   "execution_count": null,
   "metadata": {},
   "outputs": [],
   "source": [
    "# converting to a geodataframe\n",
    "gage_locs_gpd = gpd.GeoDataFrame(gage_locs,geometry=gpd.points_from_xy(gage_locs.dec_long_va, gage_locs.dec_lat_va))"
   ]
  },
  {
   "cell_type": "code",
   "execution_count": null,
   "metadata": {},
   "outputs": [],
   "source": [
    "# setting coordinate reference system to wgs84\n",
    "gage_locs_gpd.crs = {'init' :\"EPSG:4269\"}"
   ]
  },
  {
   "cell_type": "code",
   "execution_count": null,
   "metadata": {},
   "outputs": [],
   "source": [
    "gage_locs_gpd.head()"
   ]
  },
  {
   "cell_type": "markdown",
   "metadata": {},
   "source": [
    "## Reprojecting dataframes for distance calcs\n",
    "Decimal lat-long are generally not good for distance calculations. Will reproject the dataframe to a coordinate system more appropriate for distance calcluation."
   ]
  },
  {
   "cell_type": "code",
   "execution_count": null,
   "metadata": {},
   "outputs": [],
   "source": [
    "gages_for_dist_calc = gpd.GeoDataFrame(gage_locs,columns=['site_no','geometry'])"
   ]
  },
  {
   "cell_type": "code",
   "execution_count": null,
   "metadata": {},
   "outputs": [],
   "source": [
    "gages_for_dist_calc.crs = {'init' :\"EPSG:4269\"}"
   ]
  },
  {
   "cell_type": "code",
   "execution_count": null,
   "metadata": {},
   "outputs": [],
   "source": [
    "gages_for_dist_calc = gages_for_dist_calc.to_crs('EPSG:2163')"
   ]
  },
  {
   "cell_type": "code",
   "execution_count": null,
   "metadata": {},
   "outputs": [],
   "source": [
    "gages_for_dist_calc['x'] = gages_for_dist_calc['geometry'].x\n",
    "gages_for_dist_calc['y'] = gages_for_dist_calc['geometry'].y"
   ]
  },
  {
   "cell_type": "code",
   "execution_count": null,
   "metadata": {},
   "outputs": [],
   "source": [
    "zip_locs_dist = zip_data_latlong.to_crs('EPSG:2163')"
   ]
  },
  {
   "cell_type": "code",
   "execution_count": null,
   "metadata": {},
   "outputs": [],
   "source": [
    "gages_for_dist_calc.head()"
   ]
  },
  {
   "cell_type": "code",
   "execution_count": null,
   "metadata": {},
   "outputs": [],
   "source": [
    "def closest_n_gage_to_zip(point,gages,n):\n",
    "    '''\n",
    "    function to find the n closest gages to the point\n",
    "    points and gages are assumed to be projected into a consistent CRS\n",
    "    CRS should be appropriate for distance calculation\n",
    "    point = location of interst (zip code interpolation latitude and longitude)\n",
    "    gages = vector of points for gages with a gage number index (shapely points)\n",
    "    n = number of nearest points\n",
    "    returns a dataframe for the n closest points with their Euclidian distance\n",
    "    \n",
    "    this function is slow, but it rarely needs to be computed\n",
    "    \n",
    "    '''\n",
    "    \n",
    "    # setting up dataframe that will be returned\n",
    "    dist_gage = pd.DataFrame(columns=['site_no','dist'])\n",
    "    \n",
    "    # site numbers are the index of the gage dataframe\n",
    "    dist_gage['site_no'] = gages['site_no']\n",
    "    \n",
    "    # calculating euclidian distance\n",
    "    dist_gage['dist'] = np.sqrt(np.power(np.array(point.x-gages['x']),2) + np.power(np.array(point.y-gages['y']),2))\n",
    "                 \n",
    "    # sorting the results\n",
    "    dist_gage.sort_values(by=['dist'],inplace=True)\n",
    "    \n",
    "    return dist_gage.iloc[0:n]"
   ]
  },
  {
   "cell_type": "code",
   "execution_count": null,
   "metadata": {},
   "outputs": [],
   "source": [
    "# reprojecting\n",
    "zip_locs_dist = zip_data_latlong.to_crs('EPSG:2163')"
   ]
  },
  {
   "cell_type": "code",
   "execution_count": null,
   "metadata": {},
   "outputs": [],
   "source": [
    "# making columns for gages and istances to gage\n",
    "for j in range(10):\n",
    "    zip_locs_dist['gage'+str(j)] = 0\n",
    "    zip_locs_dist['dist'+str(j)] = 0"
   ]
  },
  {
   "cell_type": "code",
   "execution_count": null,
   "metadata": {},
   "outputs": [],
   "source": [
    "# loop to calculate all the distances\n",
    "# this loop is slow, but it rarely has to be computed\n",
    "\n",
    "for ind in zip_locs_dist.index:\n",
    "    \n",
    "    # zip code location evaluated in the loop\n",
    "    zip_loc = zip_locs_dist.loc[ind,'geometry']\n",
    "    \n",
    "    # finding closest gages\n",
    "    closest_gages = closest_n_gage_to_zip(zip_loc,gages_for_dist_calc,10)\n",
    "    \n",
    "    # storing the gage and distance values in the initialized columns\n",
    "    for j in range(closest_gages.shape[0]):\n",
    "        zip_locs_dist.loc[ind,'dist'+str(j)] = closest_gages['dist'].values[j]\n",
    "        zip_locs_dist.loc[ind,'gage'+str(j)] = closest_gages['site_no'].values[j]\n"
   ]
  },
  {
   "cell_type": "code",
   "execution_count": null,
   "metadata": {},
   "outputs": [],
   "source": [
    "zip_locs_dist.head()"
   ]
  },
  {
   "cell_type": "code",
   "execution_count": null,
   "metadata": {},
   "outputs": [],
   "source": [
    "os.chdir('/Users/calvinwhealton/Documents/GitHub/floods_housing_zipcode/data')\n",
    "zip_locs_dist.to_csv('zip_gage_dist_2020-08-10.csv')"
   ]
  }
 ],
 "metadata": {
  "kernelspec": {
   "display_name": "Python 3",
   "language": "python",
   "name": "python3"
  },
  "language_info": {
   "codemirror_mode": {
    "name": "ipython",
    "version": 3
   },
   "file_extension": ".py",
   "mimetype": "text/x-python",
   "name": "python",
   "nbconvert_exporter": "python",
   "pygments_lexer": "ipython3",
   "version": "3.7.4"
  }
 },
 "nbformat": 4,
 "nbformat_minor": 2
}
