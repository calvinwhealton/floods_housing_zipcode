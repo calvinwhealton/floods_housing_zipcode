{
 "cells": [
  {
   "cell_type": "markdown",
   "metadata": {},
   "source": [
    "# Determining Mapped Flood Zones for Zip Codes\n",
    "_Calvin Whealton_\n",
    "\n",
    "The Data Incubator Capstone Project Work"
   ]
  },
  {
   "cell_type": "markdown",
   "metadata": {},
   "source": [
    "This notebook scrapes the FEMA website to determine which zip codes have flood maps and which ones do not. An API for the website based on searching will be developed. This can then be parsed to determine areas that have been mapped."
   ]
  },
  {
   "cell_type": "markdown",
   "metadata": {},
   "source": [
    "Packages loaded for this notebook."
   ]
  },
  {
   "cell_type": "code",
   "execution_count": 6,
   "metadata": {},
   "outputs": [],
   "source": [
    "import pandas as pd\n",
    "import geopandas as gpd\n",
    "import requests\n",
    "from bs4 import BeautifulSoup\n",
    "import os"
   ]
  },
  {
   "cell_type": "markdown",
   "metadata": {},
   "source": [
    "Importing a file of the zip code tabulation areas (ZCTAs) used by the US census. Only the zip codes in the 48 contiguous states will be used. The original tigerline file has been clipped to the 48 states using QGIS."
   ]
  },
  {
   "cell_type": "code",
   "execution_count": 8,
   "metadata": {},
   "outputs": [],
   "source": [
    "os.chdir('/Users/calvinwhealton/Documents/GitHub/tdi_capstone/data/geo_data/tl_2019_us_zcta510_clipped48contig')\n",
    "\n",
    "zips_48 = gpd.read_file('clipped48contig.shp')"
   ]
  },
  {
   "cell_type": "markdown",
   "metadata": {},
   "source": [
    "The ZCTA5CE10 and GEOID10 columns both seem to have the same information."
   ]
  },
  {
   "cell_type": "code",
   "execution_count": 9,
   "metadata": {},
   "outputs": [
    {
     "data": {
      "text/html": [
       "<div>\n",
       "<style scoped>\n",
       "    .dataframe tbody tr th:only-of-type {\n",
       "        vertical-align: middle;\n",
       "    }\n",
       "\n",
       "    .dataframe tbody tr th {\n",
       "        vertical-align: top;\n",
       "    }\n",
       "\n",
       "    .dataframe thead th {\n",
       "        text-align: right;\n",
       "    }\n",
       "</style>\n",
       "<table border=\"1\" class=\"dataframe\">\n",
       "  <thead>\n",
       "    <tr style=\"text-align: right;\">\n",
       "      <th></th>\n",
       "      <th>ZCTA5CE10</th>\n",
       "      <th>GEOID10</th>\n",
       "      <th>CLASSFP10</th>\n",
       "      <th>MTFCC10</th>\n",
       "      <th>FUNCSTAT10</th>\n",
       "      <th>ALAND10</th>\n",
       "      <th>AWATER10</th>\n",
       "      <th>INTPTLAT10</th>\n",
       "      <th>INTPTLON10</th>\n",
       "      <th>geometry</th>\n",
       "    </tr>\n",
       "  </thead>\n",
       "  <tbody>\n",
       "    <tr>\n",
       "      <td>0</td>\n",
       "      <td>43451</td>\n",
       "      <td>43451</td>\n",
       "      <td>B5</td>\n",
       "      <td>G6350</td>\n",
       "      <td>S</td>\n",
       "      <td>63484186</td>\n",
       "      <td>157689</td>\n",
       "      <td>+41.3183010</td>\n",
       "      <td>-083.6174935</td>\n",
       "      <td>POLYGON ((-83.70873 41.32733, -83.70815 41.327...</td>\n",
       "    </tr>\n",
       "    <tr>\n",
       "      <td>1</td>\n",
       "      <td>43452</td>\n",
       "      <td>43452</td>\n",
       "      <td>B5</td>\n",
       "      <td>G6350</td>\n",
       "      <td>S</td>\n",
       "      <td>121522304</td>\n",
       "      <td>13721730</td>\n",
       "      <td>+41.5157923</td>\n",
       "      <td>-082.9809454</td>\n",
       "      <td>POLYGON ((-83.08698 41.53780, -83.08256 41.537...</td>\n",
       "    </tr>\n",
       "    <tr>\n",
       "      <td>2</td>\n",
       "      <td>43456</td>\n",
       "      <td>43456</td>\n",
       "      <td>B5</td>\n",
       "      <td>G6350</td>\n",
       "      <td>S</td>\n",
       "      <td>9320975</td>\n",
       "      <td>1003775</td>\n",
       "      <td>+41.6318300</td>\n",
       "      <td>-082.8393923</td>\n",
       "      <td>MULTIPOLYGON (((-82.83558 41.71082, -82.83515 ...</td>\n",
       "    </tr>\n",
       "    <tr>\n",
       "      <td>3</td>\n",
       "      <td>43457</td>\n",
       "      <td>43457</td>\n",
       "      <td>B5</td>\n",
       "      <td>G6350</td>\n",
       "      <td>S</td>\n",
       "      <td>48004681</td>\n",
       "      <td>0</td>\n",
       "      <td>+41.2673301</td>\n",
       "      <td>-083.4274872</td>\n",
       "      <td>POLYGON ((-83.49650 41.25371, -83.48382 41.253...</td>\n",
       "    </tr>\n",
       "    <tr>\n",
       "      <td>4</td>\n",
       "      <td>43458</td>\n",
       "      <td>43458</td>\n",
       "      <td>B5</td>\n",
       "      <td>G6350</td>\n",
       "      <td>S</td>\n",
       "      <td>2573816</td>\n",
       "      <td>39915</td>\n",
       "      <td>+41.5304461</td>\n",
       "      <td>-083.2133648</td>\n",
       "      <td>POLYGON ((-83.22229 41.53102, -83.22228 41.532...</td>\n",
       "    </tr>\n",
       "  </tbody>\n",
       "</table>\n",
       "</div>"
      ],
      "text/plain": [
       "  ZCTA5CE10 GEOID10 CLASSFP10 MTFCC10 FUNCSTAT10    ALAND10  AWATER10  \\\n",
       "0     43451   43451        B5   G6350          S   63484186    157689   \n",
       "1     43452   43452        B5   G6350          S  121522304  13721730   \n",
       "2     43456   43456        B5   G6350          S    9320975   1003775   \n",
       "3     43457   43457        B5   G6350          S   48004681         0   \n",
       "4     43458   43458        B5   G6350          S    2573816     39915   \n",
       "\n",
       "    INTPTLAT10    INTPTLON10  \\\n",
       "0  +41.3183010  -083.6174935   \n",
       "1  +41.5157923  -082.9809454   \n",
       "2  +41.6318300  -082.8393923   \n",
       "3  +41.2673301  -083.4274872   \n",
       "4  +41.5304461  -083.2133648   \n",
       "\n",
       "                                            geometry  \n",
       "0  POLYGON ((-83.70873 41.32733, -83.70815 41.327...  \n",
       "1  POLYGON ((-83.08698 41.53780, -83.08256 41.537...  \n",
       "2  MULTIPOLYGON (((-82.83558 41.71082, -82.83515 ...  \n",
       "3  POLYGON ((-83.49650 41.25371, -83.48382 41.253...  \n",
       "4  POLYGON ((-83.22229 41.53102, -83.22228 41.532...  "
      ]
     },
     "execution_count": 9,
     "metadata": {},
     "output_type": "execute_result"
    }
   ],
   "source": [
    "zips_48.head()"
   ]
  },
  {
   "cell_type": "markdown",
   "metadata": {},
   "source": [
    "Creating a dataframe that will include the zip code and the representative flood map, if it exists."
   ]
  },
  {
   "cell_type": "code",
   "execution_count": 15,
   "metadata": {},
   "outputs": [],
   "source": [
    "zips_check_maps = zips_48['GEOID10'].values"
   ]
  },
  {
   "cell_type": "code",
   "execution_count": 19,
   "metadata": {},
   "outputs": [],
   "source": [
    "zips_flood_maps = pd.DataFrame(columns=['zip','map'])"
   ]
  },
  {
   "cell_type": "code",
   "execution_count": null,
   "metadata": {},
   "outputs": [],
   "source": [
    "\n",
    "for zip_check in zips_check_maps:\n",
    "    \n",
    "    url_api = 'https://msc.fema.gov/portal/search?AddressQuery=' + zip_check + '#searchresultsanchor'\n",
    "    \n",
    "    \n",
    "    "
   ]
  },
  {
   "cell_type": "code",
   "execution_count": 40,
   "metadata": {},
   "outputs": [],
   "source": [
    "zip_check = '89003'\n",
    "url_api = 'https://msc.fema.gov/portal/search?AddressQuery=' + zip_check + '#searchresultsanchor'\n",
    "\n",
    "page = requests.get(url_api)\n"
   ]
  },
  {
   "cell_type": "code",
   "execution_count": 44,
   "metadata": {},
   "outputs": [
    {
     "data": {
      "text/plain": [
       "'https://msc.fema.gov/portal/search?AddressQuery=89003#searchresultsanchor'"
      ]
     },
     "execution_count": 44,
     "metadata": {},
     "output_type": "execute_result"
    }
   ],
   "source": [
    "url_api"
   ]
  },
  {
   "cell_type": "code",
   "execution_count": 41,
   "metadata": {},
   "outputs": [],
   "source": [
    "soup = BeautifulSoup(page.text, \"lxml\")"
   ]
  },
  {
   "cell_type": "code",
   "execution_count": 42,
   "metadata": {},
   "outputs": [],
   "source": [
    "flood_map = soup.select('.mapareanumber')"
   ]
  },
  {
   "cell_type": "code",
   "execution_count": 43,
   "metadata": {},
   "outputs": [
    {
     "data": {
      "text/plain": [
       "[<span class=\"mapareanumber\">flood map number</span>]"
      ]
     },
     "execution_count": 43,
     "metadata": {},
     "output_type": "execute_result"
    }
   ],
   "source": [
    "flood_map"
   ]
  },
  {
   "cell_type": "code",
   "execution_count": null,
   "metadata": {},
   "outputs": [],
   "source": []
  }
 ],
 "metadata": {
  "kernelspec": {
   "display_name": "Python 3",
   "language": "python",
   "name": "python3"
  },
  "language_info": {
   "codemirror_mode": {
    "name": "ipython",
    "version": 3
   },
   "file_extension": ".py",
   "mimetype": "text/x-python",
   "name": "python",
   "nbconvert_exporter": "python",
   "pygments_lexer": "ipython3",
   "version": "3.7.4"
  }
 },
 "nbformat": 4,
 "nbformat_minor": 2
}
