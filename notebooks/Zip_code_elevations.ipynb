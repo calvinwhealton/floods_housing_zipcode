{
 "cells": [
  {
   "cell_type": "markdown",
   "metadata": {},
   "source": [
    "# Zip Code Elevations\n",
    "_Calvin Whealton_"
   ]
  },
  {
   "cell_type": "markdown",
   "metadata": {},
   "source": [
    "This notebook develops some of the non-flood features for each zip code. This data would be the demographics, elevations, etc for the zip code."
   ]
  },
  {
   "cell_type": "code",
   "execution_count": 2,
   "metadata": {},
   "outputs": [],
   "source": [
    "import pandas as pd\n",
    "import geopandas as gpd\n",
    "import numpy as np\n",
    "import requests\n",
    "import os"
   ]
  },
  {
   "cell_type": "code",
   "execution_count": 3,
   "metadata": {},
   "outputs": [],
   "source": [
    "os.chdir('/Users/calvinwhealton/Documents/GitHub/tdi_capstone/data/geo_data/tl_2019_us_zcta510_clipped48contig')\n",
    "\n",
    "zip_locs = gpd.read_file('clipped48contig.shp')"
   ]
  },
  {
   "cell_type": "code",
   "execution_count": 4,
   "metadata": {},
   "outputs": [
    {
     "data": {
      "text/html": [
       "<div>\n",
       "<style scoped>\n",
       "    .dataframe tbody tr th:only-of-type {\n",
       "        vertical-align: middle;\n",
       "    }\n",
       "\n",
       "    .dataframe tbody tr th {\n",
       "        vertical-align: top;\n",
       "    }\n",
       "\n",
       "    .dataframe thead th {\n",
       "        text-align: right;\n",
       "    }\n",
       "</style>\n",
       "<table border=\"1\" class=\"dataframe\">\n",
       "  <thead>\n",
       "    <tr style=\"text-align: right;\">\n",
       "      <th></th>\n",
       "      <th>ZCTA5CE10</th>\n",
       "      <th>GEOID10</th>\n",
       "      <th>CLASSFP10</th>\n",
       "      <th>MTFCC10</th>\n",
       "      <th>FUNCSTAT10</th>\n",
       "      <th>ALAND10</th>\n",
       "      <th>AWATER10</th>\n",
       "      <th>INTPTLAT10</th>\n",
       "      <th>INTPTLON10</th>\n",
       "      <th>geometry</th>\n",
       "    </tr>\n",
       "  </thead>\n",
       "  <tbody>\n",
       "    <tr>\n",
       "      <td>0</td>\n",
       "      <td>43451</td>\n",
       "      <td>43451</td>\n",
       "      <td>B5</td>\n",
       "      <td>G6350</td>\n",
       "      <td>S</td>\n",
       "      <td>63484186</td>\n",
       "      <td>157689</td>\n",
       "      <td>+41.3183010</td>\n",
       "      <td>-083.6174935</td>\n",
       "      <td>POLYGON ((-83.70873 41.32733, -83.70815 41.327...</td>\n",
       "    </tr>\n",
       "    <tr>\n",
       "      <td>1</td>\n",
       "      <td>43452</td>\n",
       "      <td>43452</td>\n",
       "      <td>B5</td>\n",
       "      <td>G6350</td>\n",
       "      <td>S</td>\n",
       "      <td>121522304</td>\n",
       "      <td>13721730</td>\n",
       "      <td>+41.5157923</td>\n",
       "      <td>-082.9809454</td>\n",
       "      <td>POLYGON ((-83.08698 41.53780, -83.08256 41.537...</td>\n",
       "    </tr>\n",
       "    <tr>\n",
       "      <td>2</td>\n",
       "      <td>43456</td>\n",
       "      <td>43456</td>\n",
       "      <td>B5</td>\n",
       "      <td>G6350</td>\n",
       "      <td>S</td>\n",
       "      <td>9320975</td>\n",
       "      <td>1003775</td>\n",
       "      <td>+41.6318300</td>\n",
       "      <td>-082.8393923</td>\n",
       "      <td>MULTIPOLYGON (((-82.83558 41.71082, -82.83515 ...</td>\n",
       "    </tr>\n",
       "    <tr>\n",
       "      <td>3</td>\n",
       "      <td>43457</td>\n",
       "      <td>43457</td>\n",
       "      <td>B5</td>\n",
       "      <td>G6350</td>\n",
       "      <td>S</td>\n",
       "      <td>48004681</td>\n",
       "      <td>0</td>\n",
       "      <td>+41.2673301</td>\n",
       "      <td>-083.4274872</td>\n",
       "      <td>POLYGON ((-83.49650 41.25371, -83.48382 41.253...</td>\n",
       "    </tr>\n",
       "    <tr>\n",
       "      <td>4</td>\n",
       "      <td>43458</td>\n",
       "      <td>43458</td>\n",
       "      <td>B5</td>\n",
       "      <td>G6350</td>\n",
       "      <td>S</td>\n",
       "      <td>2573816</td>\n",
       "      <td>39915</td>\n",
       "      <td>+41.5304461</td>\n",
       "      <td>-083.2133648</td>\n",
       "      <td>POLYGON ((-83.22229 41.53102, -83.22228 41.532...</td>\n",
       "    </tr>\n",
       "  </tbody>\n",
       "</table>\n",
       "</div>"
      ],
      "text/plain": [
       "  ZCTA5CE10 GEOID10 CLASSFP10 MTFCC10 FUNCSTAT10    ALAND10  AWATER10  \\\n",
       "0     43451   43451        B5   G6350          S   63484186    157689   \n",
       "1     43452   43452        B5   G6350          S  121522304  13721730   \n",
       "2     43456   43456        B5   G6350          S    9320975   1003775   \n",
       "3     43457   43457        B5   G6350          S   48004681         0   \n",
       "4     43458   43458        B5   G6350          S    2573816     39915   \n",
       "\n",
       "    INTPTLAT10    INTPTLON10  \\\n",
       "0  +41.3183010  -083.6174935   \n",
       "1  +41.5157923  -082.9809454   \n",
       "2  +41.6318300  -082.8393923   \n",
       "3  +41.2673301  -083.4274872   \n",
       "4  +41.5304461  -083.2133648   \n",
       "\n",
       "                                            geometry  \n",
       "0  POLYGON ((-83.70873 41.32733, -83.70815 41.327...  \n",
       "1  POLYGON ((-83.08698 41.53780, -83.08256 41.537...  \n",
       "2  MULTIPOLYGON (((-82.83558 41.71082, -82.83515 ...  \n",
       "3  POLYGON ((-83.49650 41.25371, -83.48382 41.253...  \n",
       "4  POLYGON ((-83.22229 41.53102, -83.22228 41.532...  "
      ]
     },
     "execution_count": 4,
     "metadata": {},
     "output_type": "execute_result"
    }
   ],
   "source": [
    "zip_locs.head()"
   ]
  },
  {
   "cell_type": "markdown",
   "metadata": {},
   "source": [
    "## Elevation"
   ]
  },
  {
   "cell_type": "markdown",
   "metadata": {},
   "source": [
    "Elevation determined by quering The National Map (digital elevation model). The query is a location (latitude and longitude). Details are provided at https://ned.usgs.gov/epqs/."
   ]
  },
  {
   "cell_type": "code",
   "execution_count": 5,
   "metadata": {},
   "outputs": [],
   "source": [
    "zip_locs['elev'] = 0"
   ]
  },
  {
   "cell_type": "code",
   "execution_count": 55,
   "metadata": {},
   "outputs": [],
   "source": [
    "for i in zip_locs.index[31470:(zip_locs.shape[0]-1)]:\n",
    "    lat_use = str(zip_locs.loc[i,'INTPTLAT10'])\n",
    "    lon_use = str(zip_locs.loc[i,'INTPTLON10'])\n",
    "    url_request = 'https://nationalmap.gov/epqs/pqs.php?x='+lon_use+'&y='+lat_use+'&units=Meters&output=json&__ncforminfo=-A6A3RtjhJesgpIQkA3oV15xHP1_AffUFJuLGuCAwX6fN06_DWl34Pv7LwvpkHaY2xsnRcu_ZTbk4wqXYiOGUc6W-EMvfa7ueBHOT7cmaaBSac52KZjLePtMrCcrI9bq1SCWu5Bh_iTML1znkLmecQ%3D%3D&__ncforminfo=UnfJvKRYE6Own7A_Y06CvQjv92NpJFml1ahW0BuIllKDhfl-HMdCrbPqweBZFLwxji2XgmuMVgiC7EzWLyktUjHVzRfeVGLJLaKr_qsL-HhzWskc7CyaJy38kZ4q4fWhuy3hqTfV4iG8tkGjM92IQMmHifWQcm-s'\n",
    "    json_str = (requests.get(url_request)).text\n",
    "    zip_locs.loc[i,'elev'] = (json_str.split('\\\"Elevation\\\":')[-1]).split(',')[0]"
   ]
  },
  {
   "cell_type": "code",
   "execution_count": 36,
   "metadata": {},
   "outputs": [
    {
     "data": {
      "text/plain": [
       "32657"
      ]
     },
     "execution_count": 36,
     "metadata": {},
     "output_type": "execute_result"
    }
   ],
   "source": [
    "zip_locs.shape[0]"
   ]
  },
  {
   "cell_type": "code",
   "execution_count": 58,
   "metadata": {},
   "outputs": [],
   "source": [
    "zip_locs = zip_locs.dropna()"
   ]
  },
  {
   "cell_type": "code",
   "execution_count": 59,
   "metadata": {},
   "outputs": [
    {
     "data": {
      "text/html": [
       "<div>\n",
       "<style scoped>\n",
       "    .dataframe tbody tr th:only-of-type {\n",
       "        vertical-align: middle;\n",
       "    }\n",
       "\n",
       "    .dataframe tbody tr th {\n",
       "        vertical-align: top;\n",
       "    }\n",
       "\n",
       "    .dataframe thead th {\n",
       "        text-align: right;\n",
       "    }\n",
       "</style>\n",
       "<table border=\"1\" class=\"dataframe\">\n",
       "  <thead>\n",
       "    <tr style=\"text-align: right;\">\n",
       "      <th></th>\n",
       "      <th>ZCTA5CE10</th>\n",
       "      <th>GEOID10</th>\n",
       "      <th>CLASSFP10</th>\n",
       "      <th>MTFCC10</th>\n",
       "      <th>FUNCSTAT10</th>\n",
       "      <th>ALAND10</th>\n",
       "      <th>AWATER10</th>\n",
       "      <th>INTPTLAT10</th>\n",
       "      <th>INTPTLON10</th>\n",
       "      <th>geometry</th>\n",
       "      <th>elev</th>\n",
       "    </tr>\n",
       "  </thead>\n",
       "  <tbody>\n",
       "    <tr>\n",
       "      <td>0</td>\n",
       "      <td>43451</td>\n",
       "      <td>43451</td>\n",
       "      <td>B5</td>\n",
       "      <td>G6350</td>\n",
       "      <td>S</td>\n",
       "      <td>63484186</td>\n",
       "      <td>157689</td>\n",
       "      <td>+41.3183010</td>\n",
       "      <td>-083.6174935</td>\n",
       "      <td>POLYGON ((-83.70873 41.32733, -83.70815 41.327...</td>\n",
       "      <td>206.38</td>\n",
       "    </tr>\n",
       "    <tr>\n",
       "      <td>1</td>\n",
       "      <td>43452</td>\n",
       "      <td>43452</td>\n",
       "      <td>B5</td>\n",
       "      <td>G6350</td>\n",
       "      <td>S</td>\n",
       "      <td>121522304</td>\n",
       "      <td>13721730</td>\n",
       "      <td>+41.5157923</td>\n",
       "      <td>-082.9809454</td>\n",
       "      <td>POLYGON ((-83.08698 41.53780, -83.08256 41.537...</td>\n",
       "      <td>174.5</td>\n",
       "    </tr>\n",
       "    <tr>\n",
       "      <td>2</td>\n",
       "      <td>43456</td>\n",
       "      <td>43456</td>\n",
       "      <td>B5</td>\n",
       "      <td>G6350</td>\n",
       "      <td>S</td>\n",
       "      <td>9320975</td>\n",
       "      <td>1003775</td>\n",
       "      <td>+41.6318300</td>\n",
       "      <td>-082.8393923</td>\n",
       "      <td>MULTIPOLYGON (((-82.83558 41.71082, -82.83515 ...</td>\n",
       "      <td>186.46</td>\n",
       "    </tr>\n",
       "    <tr>\n",
       "      <td>3</td>\n",
       "      <td>43457</td>\n",
       "      <td>43457</td>\n",
       "      <td>B5</td>\n",
       "      <td>G6350</td>\n",
       "      <td>S</td>\n",
       "      <td>48004681</td>\n",
       "      <td>0</td>\n",
       "      <td>+41.2673301</td>\n",
       "      <td>-083.4274872</td>\n",
       "      <td>POLYGON ((-83.49650 41.25371, -83.48382 41.253...</td>\n",
       "      <td>217.28</td>\n",
       "    </tr>\n",
       "    <tr>\n",
       "      <td>4</td>\n",
       "      <td>43458</td>\n",
       "      <td>43458</td>\n",
       "      <td>B5</td>\n",
       "      <td>G6350</td>\n",
       "      <td>S</td>\n",
       "      <td>2573816</td>\n",
       "      <td>39915</td>\n",
       "      <td>+41.5304461</td>\n",
       "      <td>-083.2133648</td>\n",
       "      <td>POLYGON ((-83.22229 41.53102, -83.22228 41.532...</td>\n",
       "      <td>184.67</td>\n",
       "    </tr>\n",
       "  </tbody>\n",
       "</table>\n",
       "</div>"
      ],
      "text/plain": [
       "  ZCTA5CE10 GEOID10 CLASSFP10 MTFCC10 FUNCSTAT10    ALAND10  AWATER10  \\\n",
       "0     43451   43451        B5   G6350          S   63484186    157689   \n",
       "1     43452   43452        B5   G6350          S  121522304  13721730   \n",
       "2     43456   43456        B5   G6350          S    9320975   1003775   \n",
       "3     43457   43457        B5   G6350          S   48004681         0   \n",
       "4     43458   43458        B5   G6350          S    2573816     39915   \n",
       "\n",
       "    INTPTLAT10    INTPTLON10  \\\n",
       "0  +41.3183010  -083.6174935   \n",
       "1  +41.5157923  -082.9809454   \n",
       "2  +41.6318300  -082.8393923   \n",
       "3  +41.2673301  -083.4274872   \n",
       "4  +41.5304461  -083.2133648   \n",
       "\n",
       "                                            geometry    elev  \n",
       "0  POLYGON ((-83.70873 41.32733, -83.70815 41.327...  206.38  \n",
       "1  POLYGON ((-83.08698 41.53780, -83.08256 41.537...   174.5  \n",
       "2  MULTIPOLYGON (((-82.83558 41.71082, -82.83515 ...  186.46  \n",
       "3  POLYGON ((-83.49650 41.25371, -83.48382 41.253...  217.28  \n",
       "4  POLYGON ((-83.22229 41.53102, -83.22228 41.532...  184.67  "
      ]
     },
     "execution_count": 59,
     "metadata": {},
     "output_type": "execute_result"
    }
   ],
   "source": [
    "zip_locs.head()"
   ]
  },
  {
   "cell_type": "code",
   "execution_count": 64,
   "metadata": {},
   "outputs": [],
   "source": [
    "os.chdir('/Users/calvinwhealton/Documents/GitHub/tdi_capstone/data/processed')\n",
    "\n",
    "zip_locs.to_file(\"zips_with_elev.shp\")"
   ]
  }
 ],
 "metadata": {
  "kernelspec": {
   "display_name": "Python 3",
   "language": "python",
   "name": "python3"
  },
  "language_info": {
   "codemirror_mode": {
    "name": "ipython",
    "version": 3
   },
   "file_extension": ".py",
   "mimetype": "text/x-python",
   "name": "python",
   "nbconvert_exporter": "python",
   "pygments_lexer": "ipython3",
   "version": "3.7.4"
  }
 },
 "nbformat": 4,
 "nbformat_minor": 2
}
