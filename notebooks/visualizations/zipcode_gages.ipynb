{
 "cells": [
  {
   "cell_type": "markdown",
   "metadata": {},
   "source": [
    "# Zip Code with Gage Figures\n",
    "_Calvin Whealton_"
   ]
  },
  {
   "cell_type": "markdown",
   "metadata": {},
   "source": [
    "This notebook loops through all the zip codes that are in the contiguous 48 states with a zip code tabulation area. The gages for the zip code are plotted based on the distance and the trend in the time series. These plots represent whether the floods in a location are getting larger or smaller on average with time."
   ]
  },
  {
   "cell_type": "code",
   "execution_count": null,
   "metadata": {},
   "outputs": [],
   "source": [
    "import numpy as np\n",
    "import pandas as pd\n",
    "import geopandas as gpd\n",
    "import matplotlib as mpl\n",
    "import os\n",
    "from shapely.geometry import box\n",
    "from shapely.geometry import Polygon\n",
    "import rtree"
   ]
  },
  {
   "cell_type": "markdown",
   "metadata": {},
   "source": [
    "### Zip Code Tabulation Area Shapefile (Reading in and Reprojecting)"
   ]
  },
  {
   "cell_type": "code",
   "execution_count": null,
   "metadata": {},
   "outputs": [],
   "source": [
    "# loading in the zip code tabulation area (ZCTA) shapefile\n",
    "# available as a Tigerline shapefile from the US Census\n",
    "# also uploaded to https://drive.google.com/drive/folders/1z3JkCNWx-PuLXD_cuMLPa72Xcuk7lyI3?usp=sharing\n",
    "os.chdir('/Users/calvinwhealton/Documents/GitHub/floods_housing_zipcode/data/geo_data/tl_2019_us_zcta510_clipped48contig')\n",
    "zctas = gpd.read_file('clipped48contig.shp')"
   ]
  },
  {
   "cell_type": "code",
   "execution_count": null,
   "metadata": {},
   "outputs": [],
   "source": [
    "# this confirms that the coordinate reference system (CRS) is WGS84 (decimal lat and long)\n",
    "# will reproject to a distance-based projection\n",
    "zctas.crs"
   ]
  },
  {
   "cell_type": "code",
   "execution_count": null,
   "metadata": {},
   "outputs": [],
   "source": [
    "# projecting to EPSG:2163\n",
    "# US National Atlas projection\n",
    "zctas_dist = zctas.to_crs('EPSG:2163')"
   ]
  },
  {
   "cell_type": "code",
   "execution_count": null,
   "metadata": {},
   "outputs": [],
   "source": [
    "zctas_dist.head()"
   ]
  },
  {
   "cell_type": "markdown",
   "metadata": {},
   "source": [
    "### Stream Gages (Reading in and Reprojecting)"
   ]
  },
  {
   "cell_type": "code",
   "execution_count": null,
   "metadata": {},
   "outputs": [],
   "source": [
    "# loading in the stream gage information\n",
    "# downloaded as a text file from USGS website\n",
    "os.chdir('/Users/calvinwhealton/Documents/GitHub/floods_housing_zipcode/data/gage_data')\n",
    "gages = pd.read_csv('usgs_supp.txt',sep='\\t',comment='#')"
   ]
  },
  {
   "cell_type": "code",
   "execution_count": null,
   "metadata": {},
   "outputs": [],
   "source": [
    "gages.head()"
   ]
  },
  {
   "cell_type": "code",
   "execution_count": null,
   "metadata": {},
   "outputs": [],
   "source": [
    "min(gages['contrib_drain_area_va'].values), max(gages['contrib_drain_area_va'].values)"
   ]
  },
  {
   "cell_type": "code",
   "execution_count": null,
   "metadata": {},
   "outputs": [],
   "source": [
    "# dropping locations without coordinates\n",
    "gages.dropna(subset=['dec_lat_va','dec_long_va'],inplace=True)\n",
    "gages_gdf = gpd.GeoDataFrame(gages,geometry=gpd.points_from_xy(gages.dec_long_va, gages.dec_lat_va))\n",
    "gages_gdf = gpd.GeoDataFrame(gages,columns=['site_no','geometry'])"
   ]
  },
  {
   "cell_type": "code",
   "execution_count": null,
   "metadata": {},
   "outputs": [],
   "source": [
    "gages_gdf.crs = {'init' :\"EPSG:4269\"}\n",
    "gages_gdf_dist = gages_gdf.to_crs('EPSG:2163')\n",
    "gages_gdf_dist['x'] = gages_gdf_dist['geometry'].x\n",
    "gages_gdf_dist['y'] = gages_gdf_dist['geometry'].y"
   ]
  },
  {
   "cell_type": "code",
   "execution_count": null,
   "metadata": {},
   "outputs": [],
   "source": [
    "gages_gdf_dist.head()"
   ]
  },
  {
   "cell_type": "markdown",
   "metadata": {},
   "source": [
    "### Gages for Zip Code (Reading-in file)"
   ]
  },
  {
   "cell_type": "code",
   "execution_count": null,
   "metadata": {},
   "outputs": [],
   "source": [
    "# reading-in the file that includes the closest gages to each zip code\n",
    "os.chdir('/Users/calvinwhealton/Documents/GitHub/floods_housing_zipcode/data/processed_data')\n",
    "gage_zip = pd.read_csv('zip_gage_dist_2020-08-10.csv')"
   ]
  },
  {
   "cell_type": "code",
   "execution_count": null,
   "metadata": {},
   "outputs": [],
   "source": [
    "gage_zip['GEOID10_str'] = gage_zip['GEOID10'].astype(str).str.pad(width=5, side='left', fillchar='0')"
   ]
  },
  {
   "cell_type": "code",
   "execution_count": null,
   "metadata": {},
   "outputs": [],
   "source": [
    "gage_zip.head()"
   ]
  },
  {
   "cell_type": "code",
   "execution_count": null,
   "metadata": {},
   "outputs": [],
   "source": [
    "# reading-in the file for trends in the gages\n",
    "# information used in plotting the maps\n",
    "os.chdir('/Users/calvinwhealton/Documents/GitHub/floods_housing_zipcode/data/processed_data')\n",
    "gage_trends = pd.read_csv('gage_trends.csv')"
   ]
  },
  {
   "cell_type": "markdown",
   "metadata": {},
   "source": [
    "### Making Maps"
   ]
  },
  {
   "cell_type": "code",
   "execution_count": null,
   "metadata": {},
   "outputs": [],
   "source": [
    "zctas_dist['GEOID10_str'] = zctas_dist['GEOID10'].str.pad(width=5, side='left', fillchar='0')"
   ]
  },
  {
   "cell_type": "code",
   "execution_count": null,
   "metadata": {},
   "outputs": [],
   "source": [
    "gage_cols_nms = ['gage0','gage1','gage2','gage3','gage4','gage5','gage6','gage7','gage8','gage9']\n",
    "\n"
   ]
  },
  {
   "cell_type": "code",
   "execution_count": null,
   "metadata": {},
   "outputs": [],
   "source": [
    "np.ndarray.flatten((gage_zip.loc[gage_zip['GEOID10_str']==gage_zip['GEOID10_str'].values[10],gage_cols_nms]).values)"
   ]
  },
  {
   "cell_type": "code",
   "execution_count": null,
   "metadata": {},
   "outputs": [],
   "source": [
    "import matplotlib.pyplot as plt\n",
    "\n",
    "# column names to extract the gage numbers for each zip code\n",
    "gage_cols_nms = ['gage0','gage1','gage2','gage3','gage4','gage5','gage6','gage7','gage8','gage9']\n",
    "dist_cols_nms = ['dist0','dist1','dist2','dist3','dist4','dist5','dist6','dist7','dist8','dist9']\n",
    "\n",
    "size=25\n",
    "params = {'legend.fontsize': 'large',\n",
    "          'figure.figsize': (20,8),\n",
    "          'axes.labelsize': size,\n",
    "          'axes.titlesize': size,\n",
    "          'xtick.labelsize': size*0.75,\n",
    "          'ytick.labelsize': size*0.75,\n",
    "          'axes.titlepad': 25}\n",
    "\n",
    "plt.rcParams.update(params)\n",
    "\n",
    "os.chdir('/Users/calvinwhealton/Documents/GitHub/floods_housing_zipcode/visualizations/zip_results/zip_gages')\n",
    "\n",
    "for z in zctas_dist['GEOID10_str'].values:\n",
    "    \n",
    "    # extract the gage numbers and distances to zip code and flatten it to a list\n",
    "    gages_for_zip = np.ndarray.flatten((gage_zip.loc[gage_zip['GEOID10_str']==z,gage_cols_nms]).values)\n",
    "    dist_for_zip = np.ndarray.flatten((gage_zip.loc[gage_zip['GEOID10_str']==z,dist_cols_nms]).values)\n",
    "    \n",
    "    # dataframe for gages\n",
    "    gage_temp = pd.DataFrame()\n",
    "    for g in gages_for_zip:\n",
    "        gage_temp = gage_temp.append(gage_trends.loc[gage_trends['gage']==g])    \n",
    "    \n",
    "    gage_temp.reset_index(inplace=True)\n",
    "    \n",
    "    gage_temp['dist'] = 0\n",
    "    for ind in gage_temp.index:\n",
    "        dister = dist_for_zip[gages_for_zip==gage_temp.loc[ind,'gage']]\n",
    "        if len(dister) == 1:\n",
    "            gage_temp.loc[ind,'dist'] = dister\n",
    "        else:\n",
    "            gage_temp.loc[ind,'dist'] = dister[0]\n",
    "    \n",
    "    # making the figure\n",
    "    plt.figure(figsize=(10,8))\n",
    "    plt.scatter(gage_temp['dist'].values/1000,abs(gage_temp['tau'].values),\n",
    "                s=100*abs(np.log10(abs(gage_temp['slope_rel_ref'].values))),\n",
    "                linewidths=3,\n",
    "                c=symbol_fill(gage_temp),\n",
    "                edgecolors=symbol_color(gage_temp)\n",
    "               )\n",
    "    plt.title('Closest ' + str(gage_temp.shape[0]) + ' Gages for zip code '+ z)\n",
    "    plt.xlabel('Distance (km)')\n",
    "    plt.ylabel('Time Trend (Kendall tau)')\n",
    "    plt.savefig(z + '_zip_gage'+'.png')\n",
    "    plt.close()\n",
    "    \n",
    "    "
   ]
  },
  {
   "cell_type": "code",
   "execution_count": null,
   "metadata": {},
   "outputs": [],
   "source": [
    "def symbol_fill(gage_temp,increase='#fdae61',decrease='#abd9e9',ptest=0.1):\n",
    "    '''\n",
    "    function for whether the plotting symbol will be full or empty\n",
    "    full indicates a statistically significant result\n",
    "    '''\n",
    "    \n",
    "    fillers = []\n",
    "    \n",
    "    for ind in gage_temp.index:\n",
    "        if gage_temp.loc[ind,'pvalue'] <= ptest:\n",
    "            if gage_temp.loc[ind,'tau'] > 0:\n",
    "                fillers.append(increase)\n",
    "            else:\n",
    "                fillers.append(decrease)\n",
    "        else:\n",
    "            fillers.append('white')\n",
    "            \n",
    "    return fillers"
   ]
  },
  {
   "cell_type": "code",
   "execution_count": null,
   "metadata": {},
   "outputs": [],
   "source": [
    "def symbol_color(gage_temp,increase='#fdae61',decrease='#abd9e9'):\n",
    "    '''\n",
    "    function to assign the colors for the points\n",
    "    points with positive trend are assigned increase, below zero are decrease\n",
    "    '''\n",
    "    cols = []\n",
    "    for ind in gage_temp.index:\n",
    "        if gage_temp.loc[ind,'tau'] < 0:\n",
    "            cols.append(decrease)\n",
    "        else:\n",
    "            cols.append(increase)\n",
    "            \n",
    "    return cols"
   ]
  },
  {
   "cell_type": "code",
   "execution_count": null,
   "metadata": {},
   "outputs": [],
   "source": []
  }
 ],
 "metadata": {
  "kernelspec": {
   "display_name": "Python 3",
   "language": "python",
   "name": "python3"
  },
  "language_info": {
   "codemirror_mode": {
    "name": "ipython",
    "version": 3
   },
   "file_extension": ".py",
   "mimetype": "text/x-python",
   "name": "python",
   "nbconvert_exporter": "python",
   "pygments_lexer": "ipython3",
   "version": "3.7.4"
  }
 },
 "nbformat": 4,
 "nbformat_minor": 2
}
