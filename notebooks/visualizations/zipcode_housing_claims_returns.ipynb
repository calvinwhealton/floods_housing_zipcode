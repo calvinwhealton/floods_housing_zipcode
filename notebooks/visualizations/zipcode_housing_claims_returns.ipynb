{
 "cells": [
  {
   "cell_type": "markdown",
   "metadata": {},
   "source": [
    "# Housing, Claims, and Return Periods for Zips\n",
    "_Calvin Whealton_"
   ]
  },
  {
   "cell_type": "markdown",
   "metadata": {},
   "source": [
    "This notebooks makes plots of the Zillow housing value index (ZHVI), flood insurance claims, and return periods of floods. Only the available data for each zip code is plotted."
   ]
  },
  {
   "cell_type": "code",
   "execution_count": null,
   "metadata": {},
   "outputs": [],
   "source": [
    "import pandas as pd\n",
    "import matplotlib.pyplot as plt\n",
    "import os\n",
    "import geopandas as gpd\n",
    "import numpy as np"
   ]
  },
  {
   "cell_type": "markdown",
   "metadata": {},
   "source": [
    "Reading in the relevant files. Each of the Zillow (housing price), National Flood Insurance Program claims, and stream gages will be read-in separately."
   ]
  },
  {
   "cell_type": "code",
   "execution_count": null,
   "metadata": {},
   "outputs": [],
   "source": [
    "os.chdir('/Users/calvinwhealton/Documents/GitHub/floods_housing_zipcode/data/processed_data')\n",
    "housing = pd.read_csv('zillow_mon_pct_val.csv')"
   ]
  },
  {
   "cell_type": "code",
   "execution_count": null,
   "metadata": {},
   "outputs": [],
   "source": [
    "housing.head()"
   ]
  },
  {
   "cell_type": "code",
   "execution_count": null,
   "metadata": {},
   "outputs": [],
   "source": [
    "os.chdir('/Users/calvinwhealton/Documents/GitHub/floods_housing_zipcode/data/processed_data')\n",
    "claims = pd.read_csv('ts_claims_month.csv')"
   ]
  },
  {
   "cell_type": "code",
   "execution_count": null,
   "metadata": {},
   "outputs": [],
   "source": [
    "claims.head()"
   ]
  },
  {
   "cell_type": "code",
   "execution_count": null,
   "metadata": {},
   "outputs": [],
   "source": [
    "os.chdir('/Users/calvinwhealton/Documents/GitHub/floods_housing_zipcode/data/processed_data')\n",
    "ret_pers = pd.read_csv('ts_rps_2020-08-15.csv')"
   ]
  },
  {
   "cell_type": "code",
   "execution_count": null,
   "metadata": {},
   "outputs": [],
   "source": [
    "ret_pers.head()"
   ]
  },
  {
   "cell_type": "code",
   "execution_count": null,
   "metadata": {},
   "outputs": [],
   "source": [
    "os.chdir('/Users/calvinwhealton/Documents/GitHub/floods_housing_zipcode/data/processed_data')\n",
    "\n",
    "zip_gage = pd.read_csv('zip_gage_dist_2020-08-10.csv')"
   ]
  },
  {
   "cell_type": "code",
   "execution_count": null,
   "metadata": {},
   "outputs": [],
   "source": [
    "zip_gage.head()"
   ]
  },
  {
   "cell_type": "code",
   "execution_count": null,
   "metadata": {},
   "outputs": [],
   "source": [
    "zip_gage.shape[0]"
   ]
  },
  {
   "cell_type": "code",
   "execution_count": null,
   "metadata": {},
   "outputs": [],
   "source": [
    "claims.shape[0]"
   ]
  },
  {
   "cell_type": "code",
   "execution_count": null,
   "metadata": {},
   "outputs": [],
   "source": [
    "housing.shape[0]"
   ]
  },
  {
   "cell_type": "markdown",
   "metadata": {},
   "source": [
    "# making figures"
   ]
  },
  {
   "cell_type": "code",
   "execution_count": null,
   "metadata": {},
   "outputs": [],
   "source": [
    "# loop through all the zip codes that are in the\n",
    "os.chdir('/Users/calvinwhealton/Documents/GitHub/floods_housing_zipcode/data/geo_data/tl_2019_us_zcta510_clipped48contig')\n",
    "zip_shape = gpd.read_file('clipped48contig.shp')\n",
    "zip_shape['GEOID10_str'] = zip_shape['GEOID10'].apply(lambda x: '{0:0>5}'.format(x))\n"
   ]
  },
  {
   "cell_type": "code",
   "execution_count": null,
   "metadata": {},
   "outputs": [],
   "source": [
    "size=15\n",
    "params = {'legend.fontsize': 'large',\n",
    "          'figure.figsize': (20,8),\n",
    "          'axes.labelsize': size,\n",
    "          'axes.titlesize': size,\n",
    "          'xtick.labelsize': size*0.75,\n",
    "          'ytick.labelsize': size*0.75,\n",
    "          'axes.titlepad': 0,\n",
    "          'axes.titlepad': 25}\n",
    "\n",
    "plt.rcParams.update(params)\n",
    "\n",
    "x_names = (housing.columns[2:housing.shape[1]])[0:288]\n",
    "\n",
    "for z in zip_shape['GEOID10'].astype(int).values[29071:zip_shape.shape[0]]:\n",
    "    if z in housing['GEOID10_str'].astype(int).values:\n",
    "        os.chdir('/Users/calvinwhealton/Documents/GitHub/floods_housing_zipcode/visualizations/zip_results/zip_housing_vals')\n",
    "        hou_temp = housing.loc[housing['GEOID10_str'].astype(int) == z]\n",
    "        \n",
    "        plt.figure(figsize=(10,5))\n",
    "        x_vals = np.arange(0,len(x_names))\n",
    "        y_vals = hou_temp.iloc[0][x_names]\n",
    "        plt.plot(x_vals,y_vals,color='#bcbddc')\n",
    "        plt.xlabel('Date')\n",
    "        plt.ylabel('% Change (M-over-M)')\n",
    "        plt.xticks(np.arange(-1,len(x_vals),12), np.arange(1996,2021), rotation='vertical')\n",
    "        plt.title('Zillow Housing Value Index')\n",
    "        plt.savefig(str(z).zfill(5) + '_housing'+'.png')\n",
    "        plt.close()\n",
    "        \n",
    "\n",
    "    if z in claims['GEOID10_str'].astype(int).values:\n",
    "        os.chdir('/Users/calvinwhealton/Documents/GitHub/floods_housing_zipcode/visualizations/zip_results/zip_claims')\n",
    "        cla_temp = claims.loc[claims['GEOID10_str'].astype(int) == z]\n",
    "        \n",
    "        plt.figure(figsize=(10,5))\n",
    "        claims_temp = claims.loc[claims['GEOID10_str'].astype(int) == z]\n",
    "        x_vals = np.arange(0,len(x_names))\n",
    "        y_vals = np.append(np.array(claims_temp.iloc[0][-284:]),np.zeros(4))\n",
    "        if max(y_vals) != 0:\n",
    "            plt.bar(x_vals,y_vals,color='#4daf4a')\n",
    "            plt.xlabel('Date')\n",
    "            plt.ylabel('Claims (USD)')\n",
    "            plt.xticks(np.arange(-1,len(x_vals),12), np.arange(1996,2021), rotation='vertical')\n",
    "            plt.title('National Flood Insurance Claims')\n",
    "        plt.savefig(str(z).zfill(5) + '_zip_claims'+'.png')\n",
    "        plt.close()\n",
    "            \n",
    "    if z in zip_gage['GEOID10'].astype(int).values:\n",
    "        os.chdir('/Users/calvinwhealton/Documents/GitHub/floods_housing_zipcode/visualizations/zip_results/zip_rps')\n",
    "        \n",
    "        gage_lookup_temp = zip_gage.loc[zip_gage['GEOID10'] == z]\n",
    "        plt.figure(figsize=(10,5))\n",
    "        gage_cols = ['#a6cee3','#1f78b4','#b2df8a','#33a02c','#fb9a99','#e31a1c','#fdbf6f','#ff7f00','#cab2d6','#6a3d9a']\n",
    "        for j in range(10):\n",
    "            if  gage_lookup_temp['gage'+str(j)].values[0] in ret_pers['Gage'].values:\n",
    "                plt.scatter(np.arange(1996,2020),\\\n",
    "                            np.ndarray.flatten((ret_pers.loc[ret_pers['Gage'].values==gage_lookup_temp['gage'+str(j)].values[0]]).values)[-24:],\\\n",
    "                            c=gage_cols[j])\n",
    "\n",
    "        plt.yscale('log')\n",
    "        plt.xlabel('Date')\n",
    "        plt.xticks(np.arange(1996,2020), np.arange(1996,202), rotation='vertical')\n",
    "        plt.ylabel('Return Period (yrs)')\n",
    "        plt.title('Extremes in Flood Series')\n",
    "        plt.ylim((1,500))\n",
    "        plt.savefig(str(z).zfill(5) + '_zip_rps'+'.png')\n",
    "        plt.close()"
   ]
  },
  {
   "cell_type": "code",
   "execution_count": null,
   "metadata": {},
   "outputs": [],
   "source": []
  },
  {
   "cell_type": "code",
   "execution_count": null,
   "metadata": {},
   "outputs": [],
   "source": [
    "gage_lookup_temp['gage'+str(j)].values[0] in ret_pers['Gage'].values"
   ]
  },
  {
   "cell_type": "code",
   "execution_count": null,
   "metadata": {},
   "outputs": [],
   "source": [
    "np.arange(1996,2020)"
   ]
  },
  {
   "cell_type": "code",
   "execution_count": null,
   "metadata": {},
   "outputs": [],
   "source": []
  }
 ],
 "metadata": {
  "kernelspec": {
   "display_name": "Python 3",
   "language": "python",
   "name": "python3"
  },
  "language_info": {
   "codemirror_mode": {
    "name": "ipython",
    "version": 3
   },
   "file_extension": ".py",
   "mimetype": "text/x-python",
   "name": "python",
   "nbconvert_exporter": "python",
   "pygments_lexer": "ipython3",
   "version": "3.7.4"
  }
 },
 "nbformat": 4,
 "nbformat_minor": 2
}
