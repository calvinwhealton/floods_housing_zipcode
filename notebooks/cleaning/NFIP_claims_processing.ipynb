{
 "cells": [
  {
   "cell_type": "markdown",
   "metadata": {},
   "source": [
    "# Flood Insurance Data Cleaning\n",
    "_Calvin Whealton_"
   ]
  },
  {
   "cell_type": "markdown",
   "metadata": {},
   "source": [
    "This notebook processes the redacted National Flood Insurance Program redacted claims dataset. The data was obtained from https://www.fema.gov/media-library/assets/documents/180374. Data includes the claims for 1970 to 2019 and in addition to many characteristics of the type of claim it includes the zip code of the claim. The main values that will be analyzed for this work is the amount paid on the claims."
   ]
  },
  {
   "cell_type": "code",
   "execution_count": 30,
   "metadata": {},
   "outputs": [],
   "source": [
    "import os\n",
    "import pandas as pd\n",
    "import geopandas as gpd"
   ]
  },
  {
   "cell_type": "code",
   "execution_count": 3,
   "metadata": {},
   "outputs": [
    {
     "name": "stderr",
     "output_type": "stream",
     "text": [
      "/opt/anaconda3/lib/python3.7/site-packages/IPython/core/interactiveshell.py:3058: DtypeWarning: Columns (0,11,15,22,23,31,32,37) have mixed types. Specify dtype option on import or set low_memory=False.\n",
      "  interactivity=interactivity, compiler=compiler, result=result)\n"
     ]
    }
   ],
   "source": [
    "# directory where the data is stored\n",
    "os.chdir('/Users/calvinwhealton/Documents/GitHub/floods_housing_zipcode/data/FIMA_NFIP_Redacted_Claims_Data_Set')\n",
    "\n",
    "# reading in file\n",
    "claims = pd.read_csv('openFEMA_claims20190831.csv')"
   ]
  },
  {
   "cell_type": "code",
   "execution_count": 4,
   "metadata": {},
   "outputs": [
    {
     "data": {
      "text/html": [
       "<div>\n",
       "<style scoped>\n",
       "    .dataframe tbody tr th:only-of-type {\n",
       "        vertical-align: middle;\n",
       "    }\n",
       "\n",
       "    .dataframe tbody tr th {\n",
       "        vertical-align: top;\n",
       "    }\n",
       "\n",
       "    .dataframe thead th {\n",
       "        text-align: right;\n",
       "    }\n",
       "</style>\n",
       "<table border=\"1\" class=\"dataframe\">\n",
       "  <thead>\n",
       "    <tr style=\"text-align: right;\">\n",
       "      <th></th>\n",
       "      <th>agriculturestructureindicator</th>\n",
       "      <th>asofdate</th>\n",
       "      <th>basefloodelevation</th>\n",
       "      <th>basementenclosurecrawlspacetype</th>\n",
       "      <th>reportedcity</th>\n",
       "      <th>condominiumindicator</th>\n",
       "      <th>policycount</th>\n",
       "      <th>countycode</th>\n",
       "      <th>crsdiscount</th>\n",
       "      <th>dateofloss</th>\n",
       "      <th>...</th>\n",
       "      <th>amountpaidonincreasedcostofcomplianceclaim</th>\n",
       "      <th>postfirmconstructionindicator</th>\n",
       "      <th>ratemethod</th>\n",
       "      <th>smallbusinessindicatorbuilding</th>\n",
       "      <th>state</th>\n",
       "      <th>totalbuildinginsurancecoverage</th>\n",
       "      <th>totalcontentsinsurancecoverage</th>\n",
       "      <th>yearofloss</th>\n",
       "      <th>reportedzipcode</th>\n",
       "      <th>primaryresidence</th>\n",
       "    </tr>\n",
       "  </thead>\n",
       "  <tbody>\n",
       "    <tr>\n",
       "      <td>0</td>\n",
       "      <td>NaN</td>\n",
       "      <td>2019-08-31</td>\n",
       "      <td>NaN</td>\n",
       "      <td>0.0</td>\n",
       "      <td>OCEANSIDE</td>\n",
       "      <td>N</td>\n",
       "      <td>1.0</td>\n",
       "      <td>6073.0</td>\n",
       "      <td>0.00</td>\n",
       "      <td>1998-02-07</td>\n",
       "      <td>...</td>\n",
       "      <td>NaN</td>\n",
       "      <td>N</td>\n",
       "      <td>7</td>\n",
       "      <td>NaN</td>\n",
       "      <td>CA</td>\n",
       "      <td>200000.0</td>\n",
       "      <td>50000.0</td>\n",
       "      <td>1998</td>\n",
       "      <td>92056</td>\n",
       "      <td>NaN</td>\n",
       "    </tr>\n",
       "    <tr>\n",
       "      <td>1</td>\n",
       "      <td>NaN</td>\n",
       "      <td>2019-08-31</td>\n",
       "      <td>NaN</td>\n",
       "      <td>0.0</td>\n",
       "      <td>NEW ORLEANS</td>\n",
       "      <td>N</td>\n",
       "      <td>1.0</td>\n",
       "      <td>22071.0</td>\n",
       "      <td>0.00</td>\n",
       "      <td>2005-08-29</td>\n",
       "      <td>...</td>\n",
       "      <td>NaN</td>\n",
       "      <td>N</td>\n",
       "      <td>7</td>\n",
       "      <td>NaN</td>\n",
       "      <td>LA</td>\n",
       "      <td>100000.0</td>\n",
       "      <td>40000.0</td>\n",
       "      <td>2005</td>\n",
       "      <td>70131</td>\n",
       "      <td>Y</td>\n",
       "    </tr>\n",
       "    <tr>\n",
       "      <td>2</td>\n",
       "      <td>NaN</td>\n",
       "      <td>2019-08-31</td>\n",
       "      <td>NaN</td>\n",
       "      <td>0.0</td>\n",
       "      <td>NAVARRE</td>\n",
       "      <td>N</td>\n",
       "      <td>1.0</td>\n",
       "      <td>12113.0</td>\n",
       "      <td>0.05</td>\n",
       "      <td>1998-09-28</td>\n",
       "      <td>...</td>\n",
       "      <td>0.0</td>\n",
       "      <td>N</td>\n",
       "      <td>1</td>\n",
       "      <td>NaN</td>\n",
       "      <td>FL</td>\n",
       "      <td>100000.0</td>\n",
       "      <td>50000.0</td>\n",
       "      <td>1998</td>\n",
       "      <td>32566</td>\n",
       "      <td>NaN</td>\n",
       "    </tr>\n",
       "    <tr>\n",
       "      <td>3</td>\n",
       "      <td>NaN</td>\n",
       "      <td>2019-08-31</td>\n",
       "      <td>NaN</td>\n",
       "      <td>1.0</td>\n",
       "      <td>BEAUFORT</td>\n",
       "      <td>N</td>\n",
       "      <td>1.0</td>\n",
       "      <td>45013.0</td>\n",
       "      <td>0.00</td>\n",
       "      <td>1994-10-07</td>\n",
       "      <td>...</td>\n",
       "      <td>NaN</td>\n",
       "      <td>N</td>\n",
       "      <td>7</td>\n",
       "      <td>NaN</td>\n",
       "      <td>SC</td>\n",
       "      <td>100000.0</td>\n",
       "      <td>25000.0</td>\n",
       "      <td>1994</td>\n",
       "      <td>29902</td>\n",
       "      <td>NaN</td>\n",
       "    </tr>\n",
       "    <tr>\n",
       "      <td>4</td>\n",
       "      <td>NaN</td>\n",
       "      <td>2019-08-31</td>\n",
       "      <td>NaN</td>\n",
       "      <td>0.0</td>\n",
       "      <td>MELBOURNE</td>\n",
       "      <td>N</td>\n",
       "      <td>1.0</td>\n",
       "      <td>12009.0</td>\n",
       "      <td>0.00</td>\n",
       "      <td>1996-03-11</td>\n",
       "      <td>...</td>\n",
       "      <td>NaN</td>\n",
       "      <td>Y</td>\n",
       "      <td>7</td>\n",
       "      <td>NaN</td>\n",
       "      <td>FL</td>\n",
       "      <td>100000.0</td>\n",
       "      <td>25000.0</td>\n",
       "      <td>1996</td>\n",
       "      <td>32940</td>\n",
       "      <td>NaN</td>\n",
       "    </tr>\n",
       "  </tbody>\n",
       "</table>\n",
       "<p>5 rows × 39 columns</p>\n",
       "</div>"
      ],
      "text/plain": [
       "  agriculturestructureindicator    asofdate  basefloodelevation  \\\n",
       "0                           NaN  2019-08-31                 NaN   \n",
       "1                           NaN  2019-08-31                 NaN   \n",
       "2                           NaN  2019-08-31                 NaN   \n",
       "3                           NaN  2019-08-31                 NaN   \n",
       "4                           NaN  2019-08-31                 NaN   \n",
       "\n",
       "   basementenclosurecrawlspacetype reportedcity condominiumindicator  \\\n",
       "0                              0.0    OCEANSIDE                    N   \n",
       "1                              0.0  NEW ORLEANS                    N   \n",
       "2                              0.0      NAVARRE                    N   \n",
       "3                              1.0     BEAUFORT                    N   \n",
       "4                              0.0    MELBOURNE                    N   \n",
       "\n",
       "   policycount  countycode  crsdiscount  dateofloss  ...  \\\n",
       "0          1.0      6073.0         0.00  1998-02-07  ...   \n",
       "1          1.0     22071.0         0.00  2005-08-29  ...   \n",
       "2          1.0     12113.0         0.05  1998-09-28  ...   \n",
       "3          1.0     45013.0         0.00  1994-10-07  ...   \n",
       "4          1.0     12009.0         0.00  1996-03-11  ...   \n",
       "\n",
       "  amountpaidonincreasedcostofcomplianceclaim postfirmconstructionindicator  \\\n",
       "0                                        NaN                             N   \n",
       "1                                        NaN                             N   \n",
       "2                                        0.0                             N   \n",
       "3                                        NaN                             N   \n",
       "4                                        NaN                             Y   \n",
       "\n",
       "   ratemethod  smallbusinessindicatorbuilding state  \\\n",
       "0           7                             NaN    CA   \n",
       "1           7                             NaN    LA   \n",
       "2           1                             NaN    FL   \n",
       "3           7                             NaN    SC   \n",
       "4           7                             NaN    FL   \n",
       "\n",
       "  totalbuildinginsurancecoverage  totalcontentsinsurancecoverage yearofloss  \\\n",
       "0                       200000.0                         50000.0       1998   \n",
       "1                       100000.0                         40000.0       2005   \n",
       "2                       100000.0                         50000.0       1998   \n",
       "3                       100000.0                         25000.0       1994   \n",
       "4                       100000.0                         25000.0       1996   \n",
       "\n",
       "   reportedzipcode  primaryresidence  \n",
       "0            92056               NaN  \n",
       "1            70131                 Y  \n",
       "2            32566               NaN  \n",
       "3            29902               NaN  \n",
       "4            32940               NaN  \n",
       "\n",
       "[5 rows x 39 columns]"
      ]
     },
     "execution_count": 4,
     "metadata": {},
     "output_type": "execute_result"
    }
   ],
   "source": [
    "claims.head()"
   ]
  },
  {
   "cell_type": "code",
   "execution_count": 8,
   "metadata": {},
   "outputs": [
    {
     "data": {
      "text/plain": [
       "(2422370, 39)"
      ]
     },
     "execution_count": 8,
     "metadata": {},
     "output_type": "execute_result"
    }
   ],
   "source": [
    "claims.shape"
   ]
  },
  {
   "cell_type": "code",
   "execution_count": 9,
   "metadata": {},
   "outputs": [
    {
     "data": {
      "text/plain": [
       "(1970, 2019)"
      ]
     },
     "execution_count": 9,
     "metadata": {},
     "output_type": "execute_result"
    }
   ],
   "source": [
    "min(claims['yearofloss']),max(claims['yearofloss'])"
   ]
  },
  {
   "cell_type": "code",
   "execution_count": 10,
   "metadata": {},
   "outputs": [
    {
     "data": {
      "text/plain": [
       "43913"
      ]
     },
     "execution_count": 10,
     "metadata": {},
     "output_type": "execute_result"
    }
   ],
   "source": [
    "len(claims['reportedzipcode'].unique())"
   ]
  },
  {
   "cell_type": "markdown",
   "metadata": {},
   "source": [
    "Focus is on housing. Small business, agricultural buildings, non-profit buildings, and places of worship are not of immediate interest."
   ]
  },
  {
   "cell_type": "code",
   "execution_count": 11,
   "metadata": {},
   "outputs": [],
   "source": [
    "claims.drop(claims[claims['houseworship']=='Y'].index,inplace=True)\n",
    "claims.drop(claims[claims['agriculturestructureindicator']=='Y'].index,inplace=True)\n",
    "claims.drop(claims[claims['nonprofitindicator']=='Y'].index,inplace=True)\n",
    "claims.drop(claims[claims['smallbusinessindicatorbuilding']=='Y'].index,inplace=True)"
   ]
  },
  {
   "cell_type": "code",
   "execution_count": 12,
   "metadata": {},
   "outputs": [
    {
     "data": {
      "text/plain": [
       "(2422370, 39)"
      ]
     },
     "execution_count": 12,
     "metadata": {},
     "output_type": "execute_result"
    }
   ],
   "source": [
    "claims.shape"
   ]
  },
  {
   "cell_type": "markdown",
   "metadata": {},
   "source": [
    "The metadata states that a negative claims amount means that the check was not cashed and had to be reissued. Therefore, the payment would still presumptively be positive. The claims are divided into building and contents. For the purpose of this analysis, both would be considered as representing a damage to the structure."
   ]
  },
  {
   "cell_type": "code",
   "execution_count": 13,
   "metadata": {},
   "outputs": [
    {
     "data": {
      "text/plain": [
       "(-29207.05, 10000000.0)"
      ]
     },
     "execution_count": 13,
     "metadata": {},
     "output_type": "execute_result"
    }
   ],
   "source": [
    "min(claims['amountpaidonbuildingclaim']),max(claims['amountpaidonbuildingclaim'])"
   ]
  },
  {
   "cell_type": "code",
   "execution_count": 14,
   "metadata": {},
   "outputs": [
    {
     "data": {
      "text/plain": [
       "(0.0, 10000000.0)"
      ]
     },
     "execution_count": 14,
     "metadata": {},
     "output_type": "execute_result"
    }
   ],
   "source": [
    "claims['amountpaidonbuildingclaim'] = claims['amountpaidonbuildingclaim'].abs()\n",
    "claims['amountpaidoncontentsclaim'] = claims['amountpaidoncontentsclaim'].abs()\n",
    "min(claims['amountpaidonbuildingclaim']),max(claims['amountpaidonbuildingclaim'])"
   ]
  },
  {
   "cell_type": "markdown",
   "metadata": {},
   "source": [
    "Making a column that will be used in aggregating the losses to the monthly values."
   ]
  },
  {
   "cell_type": "code",
   "execution_count": 16,
   "metadata": {},
   "outputs": [],
   "source": [
    "claims['yearmonthofloss'] = claims['dateofloss'].str[:-3]"
   ]
  },
  {
   "cell_type": "code",
   "execution_count": 17,
   "metadata": {},
   "outputs": [
    {
     "data": {
      "text/html": [
       "<div>\n",
       "<style scoped>\n",
       "    .dataframe tbody tr th:only-of-type {\n",
       "        vertical-align: middle;\n",
       "    }\n",
       "\n",
       "    .dataframe tbody tr th {\n",
       "        vertical-align: top;\n",
       "    }\n",
       "\n",
       "    .dataframe thead th {\n",
       "        text-align: right;\n",
       "    }\n",
       "</style>\n",
       "<table border=\"1\" class=\"dataframe\">\n",
       "  <thead>\n",
       "    <tr style=\"text-align: right;\">\n",
       "      <th></th>\n",
       "      <th>agriculturestructureindicator</th>\n",
       "      <th>asofdate</th>\n",
       "      <th>basefloodelevation</th>\n",
       "      <th>basementenclosurecrawlspacetype</th>\n",
       "      <th>reportedcity</th>\n",
       "      <th>condominiumindicator</th>\n",
       "      <th>policycount</th>\n",
       "      <th>countycode</th>\n",
       "      <th>crsdiscount</th>\n",
       "      <th>dateofloss</th>\n",
       "      <th>...</th>\n",
       "      <th>postfirmconstructionindicator</th>\n",
       "      <th>ratemethod</th>\n",
       "      <th>smallbusinessindicatorbuilding</th>\n",
       "      <th>state</th>\n",
       "      <th>totalbuildinginsurancecoverage</th>\n",
       "      <th>totalcontentsinsurancecoverage</th>\n",
       "      <th>yearofloss</th>\n",
       "      <th>reportedzipcode</th>\n",
       "      <th>primaryresidence</th>\n",
       "      <th>yearmonthofloss</th>\n",
       "    </tr>\n",
       "  </thead>\n",
       "  <tbody>\n",
       "    <tr>\n",
       "      <td>0</td>\n",
       "      <td>NaN</td>\n",
       "      <td>2019-08-31</td>\n",
       "      <td>NaN</td>\n",
       "      <td>0.0</td>\n",
       "      <td>OCEANSIDE</td>\n",
       "      <td>N</td>\n",
       "      <td>1.0</td>\n",
       "      <td>6073.0</td>\n",
       "      <td>0.00</td>\n",
       "      <td>1998-02-07</td>\n",
       "      <td>...</td>\n",
       "      <td>N</td>\n",
       "      <td>7</td>\n",
       "      <td>NaN</td>\n",
       "      <td>CA</td>\n",
       "      <td>200000.0</td>\n",
       "      <td>50000.0</td>\n",
       "      <td>1998</td>\n",
       "      <td>92056</td>\n",
       "      <td>NaN</td>\n",
       "      <td>1998-02</td>\n",
       "    </tr>\n",
       "    <tr>\n",
       "      <td>1</td>\n",
       "      <td>NaN</td>\n",
       "      <td>2019-08-31</td>\n",
       "      <td>NaN</td>\n",
       "      <td>0.0</td>\n",
       "      <td>NEW ORLEANS</td>\n",
       "      <td>N</td>\n",
       "      <td>1.0</td>\n",
       "      <td>22071.0</td>\n",
       "      <td>0.00</td>\n",
       "      <td>2005-08-29</td>\n",
       "      <td>...</td>\n",
       "      <td>N</td>\n",
       "      <td>7</td>\n",
       "      <td>NaN</td>\n",
       "      <td>LA</td>\n",
       "      <td>100000.0</td>\n",
       "      <td>40000.0</td>\n",
       "      <td>2005</td>\n",
       "      <td>70131</td>\n",
       "      <td>Y</td>\n",
       "      <td>2005-08</td>\n",
       "    </tr>\n",
       "    <tr>\n",
       "      <td>2</td>\n",
       "      <td>NaN</td>\n",
       "      <td>2019-08-31</td>\n",
       "      <td>NaN</td>\n",
       "      <td>0.0</td>\n",
       "      <td>NAVARRE</td>\n",
       "      <td>N</td>\n",
       "      <td>1.0</td>\n",
       "      <td>12113.0</td>\n",
       "      <td>0.05</td>\n",
       "      <td>1998-09-28</td>\n",
       "      <td>...</td>\n",
       "      <td>N</td>\n",
       "      <td>1</td>\n",
       "      <td>NaN</td>\n",
       "      <td>FL</td>\n",
       "      <td>100000.0</td>\n",
       "      <td>50000.0</td>\n",
       "      <td>1998</td>\n",
       "      <td>32566</td>\n",
       "      <td>NaN</td>\n",
       "      <td>1998-09</td>\n",
       "    </tr>\n",
       "    <tr>\n",
       "      <td>3</td>\n",
       "      <td>NaN</td>\n",
       "      <td>2019-08-31</td>\n",
       "      <td>NaN</td>\n",
       "      <td>1.0</td>\n",
       "      <td>BEAUFORT</td>\n",
       "      <td>N</td>\n",
       "      <td>1.0</td>\n",
       "      <td>45013.0</td>\n",
       "      <td>0.00</td>\n",
       "      <td>1994-10-07</td>\n",
       "      <td>...</td>\n",
       "      <td>N</td>\n",
       "      <td>7</td>\n",
       "      <td>NaN</td>\n",
       "      <td>SC</td>\n",
       "      <td>100000.0</td>\n",
       "      <td>25000.0</td>\n",
       "      <td>1994</td>\n",
       "      <td>29902</td>\n",
       "      <td>NaN</td>\n",
       "      <td>1994-10</td>\n",
       "    </tr>\n",
       "    <tr>\n",
       "      <td>4</td>\n",
       "      <td>NaN</td>\n",
       "      <td>2019-08-31</td>\n",
       "      <td>NaN</td>\n",
       "      <td>0.0</td>\n",
       "      <td>MELBOURNE</td>\n",
       "      <td>N</td>\n",
       "      <td>1.0</td>\n",
       "      <td>12009.0</td>\n",
       "      <td>0.00</td>\n",
       "      <td>1996-03-11</td>\n",
       "      <td>...</td>\n",
       "      <td>Y</td>\n",
       "      <td>7</td>\n",
       "      <td>NaN</td>\n",
       "      <td>FL</td>\n",
       "      <td>100000.0</td>\n",
       "      <td>25000.0</td>\n",
       "      <td>1996</td>\n",
       "      <td>32940</td>\n",
       "      <td>NaN</td>\n",
       "      <td>1996-03</td>\n",
       "    </tr>\n",
       "  </tbody>\n",
       "</table>\n",
       "<p>5 rows × 40 columns</p>\n",
       "</div>"
      ],
      "text/plain": [
       "  agriculturestructureindicator    asofdate  basefloodelevation  \\\n",
       "0                           NaN  2019-08-31                 NaN   \n",
       "1                           NaN  2019-08-31                 NaN   \n",
       "2                           NaN  2019-08-31                 NaN   \n",
       "3                           NaN  2019-08-31                 NaN   \n",
       "4                           NaN  2019-08-31                 NaN   \n",
       "\n",
       "   basementenclosurecrawlspacetype reportedcity condominiumindicator  \\\n",
       "0                              0.0    OCEANSIDE                    N   \n",
       "1                              0.0  NEW ORLEANS                    N   \n",
       "2                              0.0      NAVARRE                    N   \n",
       "3                              1.0     BEAUFORT                    N   \n",
       "4                              0.0    MELBOURNE                    N   \n",
       "\n",
       "   policycount  countycode  crsdiscount  dateofloss  ...  \\\n",
       "0          1.0      6073.0         0.00  1998-02-07  ...   \n",
       "1          1.0     22071.0         0.00  2005-08-29  ...   \n",
       "2          1.0     12113.0         0.05  1998-09-28  ...   \n",
       "3          1.0     45013.0         0.00  1994-10-07  ...   \n",
       "4          1.0     12009.0         0.00  1996-03-11  ...   \n",
       "\n",
       "  postfirmconstructionindicator ratemethod  smallbusinessindicatorbuilding  \\\n",
       "0                             N          7                             NaN   \n",
       "1                             N          7                             NaN   \n",
       "2                             N          1                             NaN   \n",
       "3                             N          7                             NaN   \n",
       "4                             Y          7                             NaN   \n",
       "\n",
       "   state totalbuildinginsurancecoverage totalcontentsinsurancecoverage  \\\n",
       "0     CA                       200000.0                        50000.0   \n",
       "1     LA                       100000.0                        40000.0   \n",
       "2     FL                       100000.0                        50000.0   \n",
       "3     SC                       100000.0                        25000.0   \n",
       "4     FL                       100000.0                        25000.0   \n",
       "\n",
       "   yearofloss reportedzipcode  primaryresidence  yearmonthofloss  \n",
       "0        1998           92056               NaN          1998-02  \n",
       "1        2005           70131                 Y          2005-08  \n",
       "2        1998           32566               NaN          1998-09  \n",
       "3        1994           29902               NaN          1994-10  \n",
       "4        1996           32940               NaN          1996-03  \n",
       "\n",
       "[5 rows x 40 columns]"
      ]
     },
     "execution_count": 17,
     "metadata": {},
     "output_type": "execute_result"
    }
   ],
   "source": [
    "claims.head()"
   ]
  },
  {
   "cell_type": "code",
   "execution_count": 21,
   "metadata": {},
   "outputs": [],
   "source": [
    "claims['GEOID10_str'] = claims['reportedzipcode'].apply(lambda x: '{0:0>5}'.format(x))"
   ]
  },
  {
   "cell_type": "code",
   "execution_count": 52,
   "metadata": {},
   "outputs": [],
   "source": [
    "claims_for_groupby = claims.filter(['GEOID10_str','yearmonthofloss','amountpaidoncontentsclaim','amountpaidonbuildingclaim'])"
   ]
  },
  {
   "cell_type": "markdown",
   "metadata": {},
   "source": [
    "Loading a zip code shapefile that will be used to evaluated valid zip codes. The valid zip codes are those in the US Census ZCTA (Zip Code Tabulation Area) shapefile. The shapefile has been clipped to the 48 contiguous states."
   ]
  },
  {
   "cell_type": "code",
   "execution_count": 31,
   "metadata": {},
   "outputs": [],
   "source": [
    "os.chdir('/Users/calvinwhealton/Documents/GitHub/tdi_capstone/data/geo_data/tl_2019_us_zcta510_clipped48contig')\n",
    "zip_shape = gpd.read_file('clipped48contig.shp')"
   ]
  },
  {
   "cell_type": "code",
   "execution_count": 56,
   "metadata": {},
   "outputs": [],
   "source": [
    "valid_zips = zip_shape['ZCTA5CE10'].values"
   ]
  },
  {
   "cell_type": "markdown",
   "metadata": {},
   "source": [
    "Looping through the dataframe and dropping rows (zip codes) that are not in the list of valid zip codes. Pre-processing the claims before using group by to reduce the number of results."
   ]
  },
  {
   "cell_type": "markdown",
   "metadata": {},
   "source": [
    "Using the `isin()` function because it is faster than looping through the dataframe."
   ]
  },
  {
   "cell_type": "code",
   "execution_count": 59,
   "metadata": {},
   "outputs": [],
   "source": [
    "claims_for_groupby = claims_for_groupby.loc[claims_for_groupby['GEOID10_str'].isin(valid_zips)]"
   ]
  },
  {
   "cell_type": "code",
   "execution_count": 60,
   "metadata": {},
   "outputs": [
    {
     "data": {
      "text/html": [
       "<div>\n",
       "<style scoped>\n",
       "    .dataframe tbody tr th:only-of-type {\n",
       "        vertical-align: middle;\n",
       "    }\n",
       "\n",
       "    .dataframe tbody tr th {\n",
       "        vertical-align: top;\n",
       "    }\n",
       "\n",
       "    .dataframe thead th {\n",
       "        text-align: right;\n",
       "    }\n",
       "</style>\n",
       "<table border=\"1\" class=\"dataframe\">\n",
       "  <thead>\n",
       "    <tr style=\"text-align: right;\">\n",
       "      <th></th>\n",
       "      <th>GEOID10_str</th>\n",
       "      <th>yearmonthofloss</th>\n",
       "      <th>amountpaidoncontentsclaim</th>\n",
       "      <th>amountpaidonbuildingclaim</th>\n",
       "    </tr>\n",
       "  </thead>\n",
       "  <tbody>\n",
       "    <tr>\n",
       "      <td>42</td>\n",
       "      <td>22973</td>\n",
       "      <td>1995-06</td>\n",
       "      <td>0.0</td>\n",
       "      <td>0.00</td>\n",
       "    </tr>\n",
       "    <tr>\n",
       "      <td>43</td>\n",
       "      <td>22973</td>\n",
       "      <td>1996-09</td>\n",
       "      <td>0.0</td>\n",
       "      <td>0.00</td>\n",
       "    </tr>\n",
       "    <tr>\n",
       "      <td>44</td>\n",
       "      <td>29572</td>\n",
       "      <td>1999-09</td>\n",
       "      <td>0.0</td>\n",
       "      <td>0.00</td>\n",
       "    </tr>\n",
       "    <tr>\n",
       "      <td>45</td>\n",
       "      <td>33441</td>\n",
       "      <td>2005-10</td>\n",
       "      <td>0.0</td>\n",
       "      <td>0.00</td>\n",
       "    </tr>\n",
       "    <tr>\n",
       "      <td>46</td>\n",
       "      <td>32507</td>\n",
       "      <td>2004-09</td>\n",
       "      <td>60000.0</td>\n",
       "      <td>239509.58</td>\n",
       "    </tr>\n",
       "  </tbody>\n",
       "</table>\n",
       "</div>"
      ],
      "text/plain": [
       "   GEOID10_str yearmonthofloss  amountpaidoncontentsclaim  \\\n",
       "42       22973         1995-06                        0.0   \n",
       "43       22973         1996-09                        0.0   \n",
       "44       29572         1999-09                        0.0   \n",
       "45       33441         2005-10                        0.0   \n",
       "46       32507         2004-09                    60000.0   \n",
       "\n",
       "    amountpaidonbuildingclaim  \n",
       "42                       0.00  \n",
       "43                       0.00  \n",
       "44                       0.00  \n",
       "45                       0.00  \n",
       "46                  239509.58  "
      ]
     },
     "execution_count": 60,
     "metadata": {},
     "output_type": "execute_result"
    }
   ],
   "source": [
    "claims_for_groupby.head()"
   ]
  },
  {
   "cell_type": "code",
   "execution_count": 61,
   "metadata": {},
   "outputs": [],
   "source": [
    "claims_gb = claims_for_groupby.groupby(['GEOID10_str','yearmonthofloss']).sum()"
   ]
  },
  {
   "cell_type": "code",
   "execution_count": 62,
   "metadata": {},
   "outputs": [
    {
     "data": {
      "text/html": [
       "<div>\n",
       "<style scoped>\n",
       "    .dataframe tbody tr th:only-of-type {\n",
       "        vertical-align: middle;\n",
       "    }\n",
       "\n",
       "    .dataframe tbody tr th {\n",
       "        vertical-align: top;\n",
       "    }\n",
       "\n",
       "    .dataframe thead th {\n",
       "        text-align: right;\n",
       "    }\n",
       "</style>\n",
       "<table border=\"1\" class=\"dataframe\">\n",
       "  <thead>\n",
       "    <tr style=\"text-align: right;\">\n",
       "      <th></th>\n",
       "      <th></th>\n",
       "      <th>amountpaidoncontentsclaim</th>\n",
       "      <th>amountpaidonbuildingclaim</th>\n",
       "    </tr>\n",
       "    <tr>\n",
       "      <th>GEOID10_str</th>\n",
       "      <th>yearmonthofloss</th>\n",
       "      <th></th>\n",
       "      <th></th>\n",
       "    </tr>\n",
       "  </thead>\n",
       "  <tbody>\n",
       "    <tr>\n",
       "      <td rowspan=\"5\" valign=\"top\">01001</td>\n",
       "      <td>1979-01</td>\n",
       "      <td>86.50</td>\n",
       "      <td>650.00</td>\n",
       "    </tr>\n",
       "    <tr>\n",
       "      <td>1982-06</td>\n",
       "      <td>375.00</td>\n",
       "      <td>0.00</td>\n",
       "    </tr>\n",
       "    <tr>\n",
       "      <td>1983-04</td>\n",
       "      <td>1288.80</td>\n",
       "      <td>0.00</td>\n",
       "    </tr>\n",
       "    <tr>\n",
       "      <td>1984-05</td>\n",
       "      <td>19723.85</td>\n",
       "      <td>40669.73</td>\n",
       "    </tr>\n",
       "    <tr>\n",
       "      <td>1984-06</td>\n",
       "      <td>110.00</td>\n",
       "      <td>9227.68</td>\n",
       "    </tr>\n",
       "  </tbody>\n",
       "</table>\n",
       "</div>"
      ],
      "text/plain": [
       "                             amountpaidoncontentsclaim  \\\n",
       "GEOID10_str yearmonthofloss                              \n",
       "01001       1979-01                              86.50   \n",
       "            1982-06                             375.00   \n",
       "            1983-04                            1288.80   \n",
       "            1984-05                           19723.85   \n",
       "            1984-06                             110.00   \n",
       "\n",
       "                             amountpaidonbuildingclaim  \n",
       "GEOID10_str yearmonthofloss                             \n",
       "01001       1979-01                             650.00  \n",
       "            1982-06                               0.00  \n",
       "            1983-04                               0.00  \n",
       "            1984-05                           40669.73  \n",
       "            1984-06                            9227.68  "
      ]
     },
     "execution_count": 62,
     "metadata": {},
     "output_type": "execute_result"
    }
   ],
   "source": [
    "claims_gb.head()"
   ]
  },
  {
   "cell_type": "markdown",
   "metadata": {},
   "source": [
    "Checking that nothing was lost in the groupby() operation."
   ]
  },
  {
   "cell_type": "code",
   "execution_count": 63,
   "metadata": {},
   "outputs": [
    {
     "data": {
      "text/plain": [
       "11369096508.289999"
      ]
     },
     "execution_count": 63,
     "metadata": {},
     "output_type": "execute_result"
    }
   ],
   "source": [
    "claims_gb['amountpaidoncontentsclaim'].sum()"
   ]
  },
  {
   "cell_type": "code",
   "execution_count": 65,
   "metadata": {},
   "outputs": [
    {
     "data": {
      "text/plain": [
       "11369096508.289995"
      ]
     },
     "execution_count": 65,
     "metadata": {},
     "output_type": "execute_result"
    }
   ],
   "source": [
    "claims_for_groupby['amountpaidoncontentsclaim'].sum()"
   ]
  },
  {
   "cell_type": "markdown",
   "metadata": {},
   "source": [
    "Converting the different types of flood zones into binary variables (dummy variables). Result will be a 0 or 1 depending on the flood zone."
   ]
  },
  {
   "cell_type": "code",
   "execution_count": 67,
   "metadata": {},
   "outputs": [],
   "source": [
    "claims_gb['amountpaid'] = claims_gb['amountpaidoncontentsclaim'] + claims_gb['amountpaidonbuildingclaim']"
   ]
  },
  {
   "cell_type": "code",
   "execution_count": 70,
   "metadata": {},
   "outputs": [
    {
     "data": {
      "text/plain": [
       "('1973-04', '2019-08')"
      ]
     },
     "execution_count": 70,
     "metadata": {},
     "output_type": "execute_result"
    }
   ],
   "source": [
    "min(sorted(claims_for_groupby['yearmonthofloss'])),max(sorted(claims_for_groupby['yearmonthofloss']))"
   ]
  },
  {
   "cell_type": "code",
   "execution_count": 84,
   "metadata": {},
   "outputs": [],
   "source": [
    "zips,dates = zip(*claims_gb.index)\n",
    "zips2 = sorted(list(set(zips)))\n",
    "dates2 = sorted(list(set(dates)))"
   ]
  },
  {
   "cell_type": "code",
   "execution_count": 85,
   "metadata": {},
   "outputs": [],
   "source": [
    "claims_ts = pd.DataFrame({'GEOID10_str':zips2})"
   ]
  },
  {
   "cell_type": "code",
   "execution_count": 86,
   "metadata": {},
   "outputs": [],
   "source": [
    "for d in dates2:\n",
    "    claims_ts[d] = 0"
   ]
  },
  {
   "cell_type": "code",
   "execution_count": 87,
   "metadata": {},
   "outputs": [],
   "source": [
    "for vals in range(len(zips)):\n",
    "    claims_ts.loc[claims_ts['GEOID10_str']==zips[vals],dates[vals]] = claims_gb['amountpaid'].values[vals]"
   ]
  },
  {
   "cell_type": "code",
   "execution_count": 89,
   "metadata": {},
   "outputs": [
    {
     "data": {
      "text/plain": [
       "GEOID10_str             inf\n",
       "1973-04        1.326700e+04\n",
       "1973-08        0.000000e+00\n",
       "1974-04        1.408000e+03\n",
       "1974-05        1.000000e+04\n",
       "                   ...     \n",
       "2019-04        1.729401e+07\n",
       "2019-05        1.341423e+08\n",
       "2019-06        9.334140e+07\n",
       "2019-07        3.261849e+07\n",
       "2019-08        1.222505e+06\n",
       "Length: 542, dtype: float64"
      ]
     },
     "execution_count": 89,
     "metadata": {},
     "output_type": "execute_result"
    }
   ],
   "source": [
    "claims_ts.sum()"
   ]
  },
  {
   "cell_type": "markdown",
   "metadata": {},
   "source": [
    "Checking values above and below indicates that the sums match to within rounding. Values of claims were not lost or gained."
   ]
  },
  {
   "cell_type": "code",
   "execution_count": 90,
   "metadata": {},
   "outputs": [
    {
     "data": {
      "text/html": [
       "<div>\n",
       "<style scoped>\n",
       "    .dataframe tbody tr th:only-of-type {\n",
       "        vertical-align: middle;\n",
       "    }\n",
       "\n",
       "    .dataframe tbody tr th {\n",
       "        vertical-align: top;\n",
       "    }\n",
       "\n",
       "    .dataframe thead th {\n",
       "        text-align: right;\n",
       "    }\n",
       "</style>\n",
       "<table border=\"1\" class=\"dataframe\">\n",
       "  <thead>\n",
       "    <tr style=\"text-align: right;\">\n",
       "      <th></th>\n",
       "      <th>amountpaidoncontentsclaim</th>\n",
       "      <th>amountpaidonbuildingclaim</th>\n",
       "    </tr>\n",
       "    <tr>\n",
       "      <th>yearmonthofloss</th>\n",
       "      <th></th>\n",
       "      <th></th>\n",
       "    </tr>\n",
       "  </thead>\n",
       "  <tbody>\n",
       "    <tr>\n",
       "      <td>1973-04</td>\n",
       "      <td>3547.00</td>\n",
       "      <td>9.720000e+03</td>\n",
       "    </tr>\n",
       "    <tr>\n",
       "      <td>1973-08</td>\n",
       "      <td>0.00</td>\n",
       "      <td>0.000000e+00</td>\n",
       "    </tr>\n",
       "    <tr>\n",
       "      <td>1974-04</td>\n",
       "      <td>0.00</td>\n",
       "      <td>1.408000e+03</td>\n",
       "    </tr>\n",
       "    <tr>\n",
       "      <td>1974-05</td>\n",
       "      <td>0.00</td>\n",
       "      <td>1.000000e+04</td>\n",
       "    </tr>\n",
       "    <tr>\n",
       "      <td>1974-08</td>\n",
       "      <td>0.00</td>\n",
       "      <td>1.750000e+04</td>\n",
       "    </tr>\n",
       "    <tr>\n",
       "      <td>...</td>\n",
       "      <td>...</td>\n",
       "      <td>...</td>\n",
       "    </tr>\n",
       "    <tr>\n",
       "      <td>2019-04</td>\n",
       "      <td>1815850.00</td>\n",
       "      <td>1.547816e+07</td>\n",
       "    </tr>\n",
       "    <tr>\n",
       "      <td>2019-05</td>\n",
       "      <td>16728891.67</td>\n",
       "      <td>1.174135e+08</td>\n",
       "    </tr>\n",
       "    <tr>\n",
       "      <td>2019-06</td>\n",
       "      <td>12740182.55</td>\n",
       "      <td>8.060122e+07</td>\n",
       "    </tr>\n",
       "    <tr>\n",
       "      <td>2019-07</td>\n",
       "      <td>2987874.30</td>\n",
       "      <td>2.963061e+07</td>\n",
       "    </tr>\n",
       "    <tr>\n",
       "      <td>2019-08</td>\n",
       "      <td>59553.37</td>\n",
       "      <td>1.162952e+06</td>\n",
       "    </tr>\n",
       "  </tbody>\n",
       "</table>\n",
       "<p>541 rows × 2 columns</p>\n",
       "</div>"
      ],
      "text/plain": [
       "                 amountpaidoncontentsclaim  amountpaidonbuildingclaim\n",
       "yearmonthofloss                                                      \n",
       "1973-04                            3547.00               9.720000e+03\n",
       "1973-08                               0.00               0.000000e+00\n",
       "1974-04                               0.00               1.408000e+03\n",
       "1974-05                               0.00               1.000000e+04\n",
       "1974-08                               0.00               1.750000e+04\n",
       "...                                    ...                        ...\n",
       "2019-04                         1815850.00               1.547816e+07\n",
       "2019-05                        16728891.67               1.174135e+08\n",
       "2019-06                        12740182.55               8.060122e+07\n",
       "2019-07                         2987874.30               2.963061e+07\n",
       "2019-08                           59553.37               1.162952e+06\n",
       "\n",
       "[541 rows x 2 columns]"
      ]
     },
     "execution_count": 90,
     "metadata": {},
     "output_type": "execute_result"
    }
   ],
   "source": [
    "claims_for_groupby.groupby('yearmonthofloss').sum()"
   ]
  },
  {
   "cell_type": "code",
   "execution_count": 142,
   "metadata": {},
   "outputs": [],
   "source": [
    "# number of zeros (no claims)\n",
    "num_zero_claims = sum((ts_claims == 0).astype(int).sum(axis=1))"
   ]
  },
  {
   "cell_type": "code",
   "execution_count": 141,
   "metadata": {},
   "outputs": [],
   "source": [
    "num_possible_claims = (ts_claims.shape[1]-1)*ts_claims.shape[0]"
   ]
  },
  {
   "cell_type": "code",
   "execution_count": 143,
   "metadata": {},
   "outputs": [
    {
     "data": {
      "text/plain": [
       "116602"
      ]
     },
     "execution_count": 143,
     "metadata": {},
     "output_type": "execute_result"
    }
   ],
   "source": [
    "num_claims = num_possible_claims - num_zero_claims\n",
    "num_claims"
   ]
  },
  {
   "cell_type": "code",
   "execution_count": 92,
   "metadata": {},
   "outputs": [],
   "source": [
    "os.chdir('/Users/calvinwhealton/Documents/GitHub/floods_housing_zipcode/data/processed_data')\n",
    "claims_ts.to_csv('ts_claims_month.csv')"
   ]
  },
  {
   "cell_type": "code",
   "execution_count": null,
   "metadata": {},
   "outputs": [],
   "source": []
  }
 ],
 "metadata": {
  "kernelspec": {
   "display_name": "Python 3",
   "language": "python",
   "name": "python3"
  },
  "language_info": {
   "codemirror_mode": {
    "name": "ipython",
    "version": 3
   },
   "file_extension": ".py",
   "mimetype": "text/x-python",
   "name": "python",
   "nbconvert_exporter": "python",
   "pygments_lexer": "ipython3",
   "version": "3.7.4"
  }
 },
 "nbformat": 4,
 "nbformat_minor": 2
}
