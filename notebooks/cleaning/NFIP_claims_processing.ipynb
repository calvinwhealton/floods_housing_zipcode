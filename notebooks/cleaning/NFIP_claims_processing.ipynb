{
 "cells": [
  {
   "cell_type": "markdown",
   "metadata": {},
   "source": [
    "# Flood Insurance Data Cleaning\n",
    "_Calvin Whealton_"
   ]
  },
  {
   "cell_type": "markdown",
   "metadata": {},
   "source": [
    "This notebook processes the redacted National Flood Insurance Program redacted claims dataset. The data was obtained from https://www.fema.gov/media-library/assets/documents/180374. Data includes the claims for 1970 to 2019 and in addition to many characteristics of the type of claim it includes the zip code of the claim. The main values that will be analyzed for this work is the amount paid on the claims."
   ]
  },
  {
   "cell_type": "code",
   "execution_count": null,
   "metadata": {},
   "outputs": [],
   "source": [
    "import os\n",
    "import pandas as pd\n",
    "import geopandas as gpd"
   ]
  },
  {
   "cell_type": "code",
   "execution_count": null,
   "metadata": {},
   "outputs": [],
   "source": [
    "# directory where the data is stored\n",
    "os.chdir('/Users/calvinwhealton/Documents/GitHub/floods_housing_zipcode/data/FIMA_NFIP_Redacted_Claims_Data_Set')\n",
    "\n",
    "# reading in file\n",
    "claims = pd.read_csv('openFEMA_claims20190831.csv')"
   ]
  },
  {
   "cell_type": "code",
   "execution_count": null,
   "metadata": {},
   "outputs": [],
   "source": [
    "claims.head()"
   ]
  },
  {
   "cell_type": "code",
   "execution_count": null,
   "metadata": {},
   "outputs": [],
   "source": [
    "claims.shape"
   ]
  },
  {
   "cell_type": "code",
   "execution_count": null,
   "metadata": {},
   "outputs": [],
   "source": [
    "min(claims['yearofloss']),max(claims['yearofloss'])"
   ]
  },
  {
   "cell_type": "code",
   "execution_count": null,
   "metadata": {},
   "outputs": [],
   "source": [
    "len(claims['reportedzipcode'].unique())"
   ]
  },
  {
   "cell_type": "markdown",
   "metadata": {},
   "source": [
    "Focus is on housing. Small business, agricultural buildings, non-profit buildings, and places of worship are not of immediate interest."
   ]
  },
  {
   "cell_type": "code",
   "execution_count": null,
   "metadata": {},
   "outputs": [],
   "source": [
    "claims.drop(claims[claims['houseworship']=='Y'].index,inplace=True)\n",
    "claims.drop(claims[claims['agriculturestructureindicator']=='Y'].index,inplace=True)\n",
    "claims.drop(claims[claims['nonprofitindicator']=='Y'].index,inplace=True)\n",
    "claims.drop(claims[claims['smallbusinessindicatorbuilding']=='Y'].index,inplace=True)"
   ]
  },
  {
   "cell_type": "code",
   "execution_count": null,
   "metadata": {},
   "outputs": [],
   "source": [
    "claims.shape"
   ]
  },
  {
   "cell_type": "markdown",
   "metadata": {},
   "source": [
    "The metadata states that a negative claims amount means that the check was not cashed and had to be reissued. Therefore, the payment would still presumptively be positive. The claims are divided into building and contents. For the purpose of this analysis, both would be considered as representing a damage to the structure."
   ]
  },
  {
   "cell_type": "code",
   "execution_count": null,
   "metadata": {},
   "outputs": [],
   "source": [
    "min(claims['amountpaidonbuildingclaim']),max(claims['amountpaidonbuildingclaim'])"
   ]
  },
  {
   "cell_type": "code",
   "execution_count": null,
   "metadata": {},
   "outputs": [],
   "source": [
    "claims['amountpaidonbuildingclaim'] = claims['amountpaidonbuildingclaim'].abs()\n",
    "claims['amountpaidoncontentsclaim'] = claims['amountpaidoncontentsclaim'].abs()\n",
    "min(claims['amountpaidonbuildingclaim']),max(claims['amountpaidonbuildingclaim'])"
   ]
  },
  {
   "cell_type": "markdown",
   "metadata": {},
   "source": [
    "Making a column that will be used in aggregating the losses to the monthly values."
   ]
  },
  {
   "cell_type": "code",
   "execution_count": null,
   "metadata": {},
   "outputs": [],
   "source": [
    "claims['yearmonthofloss'] = claims['dateofloss'].str[:-3]"
   ]
  },
  {
   "cell_type": "code",
   "execution_count": null,
   "metadata": {},
   "outputs": [],
   "source": [
    "claims.head()"
   ]
  },
  {
   "cell_type": "code",
   "execution_count": null,
   "metadata": {},
   "outputs": [],
   "source": [
    "claims['GEOID10_str'] = claims['reportedzipcode'].apply(lambda x: '{0:0>5}'.format(x))"
   ]
  },
  {
   "cell_type": "code",
   "execution_count": null,
   "metadata": {},
   "outputs": [],
   "source": [
    "claims_for_groupby = claims.filter(['GEOID10_str','yearmonthofloss','amountpaidoncontentsclaim','amountpaidonbuildingclaim'])"
   ]
  },
  {
   "cell_type": "markdown",
   "metadata": {},
   "source": [
    "Loading a zip code shapefile that will be used to evaluated valid zip codes. The valid zip codes are those in the US Census ZCTA (Zip Code Tabulation Area) shapefile. The shapefile has been clipped to the 48 contiguous states."
   ]
  },
  {
   "cell_type": "code",
   "execution_count": null,
   "metadata": {},
   "outputs": [],
   "source": [
    "os.chdir('/Users/calvinwhealton/Documents/GitHub/floods_housing_zipcode/data/geo_data/tl_2019_us_zcta510_clipped48contig')\n",
    "zip_shape = gpd.read_file('clipped48contig.shp')"
   ]
  },
  {
   "cell_type": "code",
   "execution_count": null,
   "metadata": {},
   "outputs": [],
   "source": [
    "valid_zips = zip_shape['ZCTA5CE10'].values"
   ]
  },
  {
   "cell_type": "markdown",
   "metadata": {},
   "source": [
    "Looping through the dataframe and dropping rows (zip codes) that are not in the list of valid zip codes. Pre-processing the claims before using group by to reduce the number of results."
   ]
  },
  {
   "cell_type": "markdown",
   "metadata": {},
   "source": [
    "Using the `isin()` function because it is faster than looping through the dataframe."
   ]
  },
  {
   "cell_type": "code",
   "execution_count": null,
   "metadata": {},
   "outputs": [],
   "source": [
    "claims_for_groupby = claims_for_groupby.loc[claims_for_groupby['GEOID10_str'].isin(valid_zips)]"
   ]
  },
  {
   "cell_type": "code",
   "execution_count": null,
   "metadata": {},
   "outputs": [],
   "source": [
    "claims_for_groupby.head()"
   ]
  },
  {
   "cell_type": "code",
   "execution_count": null,
   "metadata": {},
   "outputs": [],
   "source": [
    "claims_gb = claims_for_groupby.groupby(['GEOID10_str','yearmonthofloss']).sum()"
   ]
  },
  {
   "cell_type": "code",
   "execution_count": null,
   "metadata": {},
   "outputs": [],
   "source": [
    "claims_gb.head()"
   ]
  },
  {
   "cell_type": "markdown",
   "metadata": {},
   "source": [
    "Checking that nothing was lost in the groupby() operation."
   ]
  },
  {
   "cell_type": "code",
   "execution_count": null,
   "metadata": {},
   "outputs": [],
   "source": [
    "claims_gb['amountpaidoncontentsclaim'].sum()"
   ]
  },
  {
   "cell_type": "code",
   "execution_count": null,
   "metadata": {},
   "outputs": [],
   "source": [
    "claims_for_groupby['amountpaidoncontentsclaim'].sum()"
   ]
  },
  {
   "cell_type": "markdown",
   "metadata": {},
   "source": [
    "Converting the different types of flood zones into binary variables (dummy variables). Result will be a 0 or 1 depending on the flood zone."
   ]
  },
  {
   "cell_type": "code",
   "execution_count": null,
   "metadata": {},
   "outputs": [],
   "source": [
    "claims_gb['amountpaid'] = claims_gb['amountpaidoncontentsclaim'] + claims_gb['amountpaidonbuildingclaim']"
   ]
  },
  {
   "cell_type": "code",
   "execution_count": null,
   "metadata": {},
   "outputs": [],
   "source": [
    "min(sorted(claims_for_groupby['yearmonthofloss'])),max(sorted(claims_for_groupby['yearmonthofloss']))"
   ]
  },
  {
   "cell_type": "code",
   "execution_count": null,
   "metadata": {},
   "outputs": [],
   "source": [
    "# unzipping the tuple list\n",
    "zips,dates = zip(*claims_gb.index)\n",
    "zips2 = sorted(list(set(zips)))\n",
    "dates2 = sorted(list(set(dates)))"
   ]
  },
  {
   "cell_type": "code",
   "execution_count": null,
   "metadata": {},
   "outputs": [],
   "source": [
    "# making claims dataframe\n",
    "claims_ts = pd.DataFrame({'GEOID10_str':zips2})"
   ]
  },
  {
   "cell_type": "code",
   "execution_count": null,
   "metadata": {},
   "outputs": [],
   "source": [
    "for d in dates2:\n",
    "    claims_ts[d] = 0"
   ]
  },
  {
   "cell_type": "code",
   "execution_count": null,
   "metadata": {},
   "outputs": [],
   "source": [
    "for vals in range(len(zips)):\n",
    "    claims_ts.loc[claims_ts['GEOID10_str']==zips[vals],dates[vals]] = claims_gb['amountpaid'].values[vals]"
   ]
  },
  {
   "cell_type": "code",
   "execution_count": null,
   "metadata": {},
   "outputs": [],
   "source": [
    "claims_ts.sum()"
   ]
  },
  {
   "cell_type": "markdown",
   "metadata": {},
   "source": [
    "Checking values above and below indicates that the sums match to within rounding. Values of claims were not lost or gained."
   ]
  },
  {
   "cell_type": "code",
   "execution_count": null,
   "metadata": {},
   "outputs": [],
   "source": [
    "claims_for_groupby.groupby('yearmonthofloss').sum()"
   ]
  },
  {
   "cell_type": "code",
   "execution_count": null,
   "metadata": {},
   "outputs": [],
   "source": [
    "# number of zeros (no claims)\n",
    "num_zero_claims = sum((ts_claims == 0).astype(int).sum(axis=1))"
   ]
  },
  {
   "cell_type": "code",
   "execution_count": null,
   "metadata": {},
   "outputs": [],
   "source": [
    "num_possible_claims = (ts_claims.shape[1]-1)*ts_claims.shape[0]"
   ]
  },
  {
   "cell_type": "code",
   "execution_count": null,
   "metadata": {},
   "outputs": [],
   "source": [
    "num_claims = num_possible_claims - num_zero_claims\n",
    "num_claims"
   ]
  },
  {
   "cell_type": "code",
   "execution_count": null,
   "metadata": {},
   "outputs": [],
   "source": [
    "os.chdir('/Users/calvinwhealton/Documents/GitHub/floods_housing_zipcode/data/processed_data')\n",
    "claims_ts.to_csv('ts_claims_month.csv')"
   ]
  },
  {
   "cell_type": "code",
   "execution_count": null,
   "metadata": {},
   "outputs": [],
   "source": []
  }
 ],
 "metadata": {
  "kernelspec": {
   "display_name": "Python 3",
   "language": "python",
   "name": "python3"
  },
  "language_info": {
   "codemirror_mode": {
    "name": "ipython",
    "version": 3
   },
   "file_extension": ".py",
   "mimetype": "text/x-python",
   "name": "python",
   "nbconvert_exporter": "python",
   "pygments_lexer": "ipython3",
   "version": "3.7.4"
  }
 },
 "nbformat": 4,
 "nbformat_minor": 2
}
