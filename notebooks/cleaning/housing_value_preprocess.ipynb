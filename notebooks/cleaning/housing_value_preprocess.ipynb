{
 "cells": [
  {
   "cell_type": "markdown",
   "metadata": {},
   "source": [
    "# Housing Data Preprocessing\n",
    "_Calvin Whealton_"
   ]
  },
  {
   "cell_type": "markdown",
   "metadata": {},
   "source": [
    "This notebook takes the raw Zillow housing data and converts it into an monthly precentage change in the housing value. The Zillow data is available from https://www.zillow.com/research/data/ and specifically the Zillow Home Value Index (ZHVI) is used in this analysis. The result of this notebook will be a incorporated in the feature matrix for each zip code-time interval and in the predictions following floods."
   ]
  },
  {
   "cell_type": "code",
   "execution_count": 2,
   "metadata": {},
   "outputs": [],
   "source": [
    "import pandas as pd \n",
    "import numpy as np\n",
    "import os"
   ]
  },
  {
   "cell_type": "code",
   "execution_count": 6,
   "metadata": {},
   "outputs": [],
   "source": [
    "zillow_data = pd.read_csv('http://files.zillowstatic.com/research/public_v2/zhvi/Zip_zhvi_uc_sfrcondo_tier_0.33_0.67_sm_sa_mon.csv')"
   ]
  },
  {
   "cell_type": "code",
   "execution_count": 7,
   "metadata": {},
   "outputs": [
    {
     "data": {
      "text/html": [
       "<div>\n",
       "<style scoped>\n",
       "    .dataframe tbody tr th:only-of-type {\n",
       "        vertical-align: middle;\n",
       "    }\n",
       "\n",
       "    .dataframe tbody tr th {\n",
       "        vertical-align: top;\n",
       "    }\n",
       "\n",
       "    .dataframe thead th {\n",
       "        text-align: right;\n",
       "    }\n",
       "</style>\n",
       "<table border=\"1\" class=\"dataframe\">\n",
       "  <thead>\n",
       "    <tr style=\"text-align: right;\">\n",
       "      <th></th>\n",
       "      <th>RegionID</th>\n",
       "      <th>SizeRank</th>\n",
       "      <th>RegionName</th>\n",
       "      <th>RegionType</th>\n",
       "      <th>StateName</th>\n",
       "      <th>State</th>\n",
       "      <th>City</th>\n",
       "      <th>Metro</th>\n",
       "      <th>CountyName</th>\n",
       "      <th>1996-01-31</th>\n",
       "      <th>...</th>\n",
       "      <th>2019-09-30</th>\n",
       "      <th>2019-10-31</th>\n",
       "      <th>2019-11-30</th>\n",
       "      <th>2019-12-31</th>\n",
       "      <th>2020-01-31</th>\n",
       "      <th>2020-02-29</th>\n",
       "      <th>2020-03-31</th>\n",
       "      <th>2020-04-30</th>\n",
       "      <th>2020-05-31</th>\n",
       "      <th>2020-06-30</th>\n",
       "    </tr>\n",
       "  </thead>\n",
       "  <tbody>\n",
       "    <tr>\n",
       "      <td>0</td>\n",
       "      <td>61639</td>\n",
       "      <td>0</td>\n",
       "      <td>10025</td>\n",
       "      <td>Zip</td>\n",
       "      <td>NY</td>\n",
       "      <td>NY</td>\n",
       "      <td>New York</td>\n",
       "      <td>New York-Newark-Jersey City</td>\n",
       "      <td>New York County</td>\n",
       "      <td>233265.0</td>\n",
       "      <td>...</td>\n",
       "      <td>1248340.0</td>\n",
       "      <td>1234262.0</td>\n",
       "      <td>1229890.0</td>\n",
       "      <td>1226466.0</td>\n",
       "      <td>1208024.0</td>\n",
       "      <td>1182758.0</td>\n",
       "      <td>1150900.0</td>\n",
       "      <td>1134880.0</td>\n",
       "      <td>1120949.0</td>\n",
       "      <td>1112549.0</td>\n",
       "    </tr>\n",
       "    <tr>\n",
       "      <td>1</td>\n",
       "      <td>84654</td>\n",
       "      <td>1</td>\n",
       "      <td>60657</td>\n",
       "      <td>Zip</td>\n",
       "      <td>IL</td>\n",
       "      <td>IL</td>\n",
       "      <td>Chicago</td>\n",
       "      <td>Chicago-Naperville-Elgin</td>\n",
       "      <td>Cook County</td>\n",
       "      <td>211748.0</td>\n",
       "      <td>...</td>\n",
       "      <td>494425.0</td>\n",
       "      <td>493485.0</td>\n",
       "      <td>492514.0</td>\n",
       "      <td>491726.0</td>\n",
       "      <td>491562.0</td>\n",
       "      <td>492618.0</td>\n",
       "      <td>494017.0</td>\n",
       "      <td>494766.0</td>\n",
       "      <td>494546.0</td>\n",
       "      <td>494435.0</td>\n",
       "    </tr>\n",
       "    <tr>\n",
       "      <td>2</td>\n",
       "      <td>61637</td>\n",
       "      <td>2</td>\n",
       "      <td>10023</td>\n",
       "      <td>Zip</td>\n",
       "      <td>NY</td>\n",
       "      <td>NY</td>\n",
       "      <td>New York</td>\n",
       "      <td>New York-Newark-Jersey City</td>\n",
       "      <td>New York County</td>\n",
       "      <td>245773.0</td>\n",
       "      <td>...</td>\n",
       "      <td>1161916.0</td>\n",
       "      <td>1153259.0</td>\n",
       "      <td>1156287.0</td>\n",
       "      <td>1175142.0</td>\n",
       "      <td>1193746.0</td>\n",
       "      <td>1205413.0</td>\n",
       "      <td>1203165.0</td>\n",
       "      <td>1209735.0</td>\n",
       "      <td>1211403.0</td>\n",
       "      <td>1212520.0</td>\n",
       "    </tr>\n",
       "    <tr>\n",
       "      <td>3</td>\n",
       "      <td>91982</td>\n",
       "      <td>3</td>\n",
       "      <td>77494</td>\n",
       "      <td>Zip</td>\n",
       "      <td>TX</td>\n",
       "      <td>TX</td>\n",
       "      <td>Katy</td>\n",
       "      <td>Houston-The Woodlands-Sugar Land</td>\n",
       "      <td>Harris County</td>\n",
       "      <td>200430.0</td>\n",
       "      <td>...</td>\n",
       "      <td>336121.0</td>\n",
       "      <td>336159.0</td>\n",
       "      <td>336142.0</td>\n",
       "      <td>336234.0</td>\n",
       "      <td>335959.0</td>\n",
       "      <td>336153.0</td>\n",
       "      <td>336611.0</td>\n",
       "      <td>337678.0</td>\n",
       "      <td>338602.0</td>\n",
       "      <td>339179.0</td>\n",
       "    </tr>\n",
       "    <tr>\n",
       "      <td>4</td>\n",
       "      <td>84616</td>\n",
       "      <td>4</td>\n",
       "      <td>60614</td>\n",
       "      <td>Zip</td>\n",
       "      <td>IL</td>\n",
       "      <td>IL</td>\n",
       "      <td>Chicago</td>\n",
       "      <td>Chicago-Naperville-Elgin</td>\n",
       "      <td>Cook County</td>\n",
       "      <td>286382.0</td>\n",
       "      <td>...</td>\n",
       "      <td>646296.0</td>\n",
       "      <td>645348.0</td>\n",
       "      <td>643973.0</td>\n",
       "      <td>642628.0</td>\n",
       "      <td>642209.0</td>\n",
       "      <td>642227.0</td>\n",
       "      <td>642454.0</td>\n",
       "      <td>641440.0</td>\n",
       "      <td>640355.0</td>\n",
       "      <td>639311.0</td>\n",
       "    </tr>\n",
       "  </tbody>\n",
       "</table>\n",
       "<p>5 rows × 303 columns</p>\n",
       "</div>"
      ],
      "text/plain": [
       "   RegionID  SizeRank  RegionName RegionType StateName State      City  \\\n",
       "0     61639         0       10025        Zip        NY    NY  New York   \n",
       "1     84654         1       60657        Zip        IL    IL   Chicago   \n",
       "2     61637         2       10023        Zip        NY    NY  New York   \n",
       "3     91982         3       77494        Zip        TX    TX      Katy   \n",
       "4     84616         4       60614        Zip        IL    IL   Chicago   \n",
       "\n",
       "                              Metro       CountyName  1996-01-31  ...  \\\n",
       "0       New York-Newark-Jersey City  New York County    233265.0  ...   \n",
       "1          Chicago-Naperville-Elgin      Cook County    211748.0  ...   \n",
       "2       New York-Newark-Jersey City  New York County    245773.0  ...   \n",
       "3  Houston-The Woodlands-Sugar Land    Harris County    200430.0  ...   \n",
       "4          Chicago-Naperville-Elgin      Cook County    286382.0  ...   \n",
       "\n",
       "   2019-09-30  2019-10-31  2019-11-30  2019-12-31  2020-01-31  2020-02-29  \\\n",
       "0   1248340.0   1234262.0   1229890.0   1226466.0   1208024.0   1182758.0   \n",
       "1    494425.0    493485.0    492514.0    491726.0    491562.0    492618.0   \n",
       "2   1161916.0   1153259.0   1156287.0   1175142.0   1193746.0   1205413.0   \n",
       "3    336121.0    336159.0    336142.0    336234.0    335959.0    336153.0   \n",
       "4    646296.0    645348.0    643973.0    642628.0    642209.0    642227.0   \n",
       "\n",
       "   2020-03-31  2020-04-30  2020-05-31  2020-06-30  \n",
       "0   1150900.0   1134880.0   1120949.0   1112549.0  \n",
       "1    494017.0    494766.0    494546.0    494435.0  \n",
       "2   1203165.0   1209735.0   1211403.0   1212520.0  \n",
       "3    336611.0    337678.0    338602.0    339179.0  \n",
       "4    642454.0    641440.0    640355.0    639311.0  \n",
       "\n",
       "[5 rows x 303 columns]"
      ]
     },
     "execution_count": 7,
     "metadata": {},
     "output_type": "execute_result"
    }
   ],
   "source": [
    "zillow_data.head()"
   ]
  },
  {
   "cell_type": "markdown",
   "metadata": {},
   "source": [
    "Extracting the column codes that indicate time index."
   ]
  },
  {
   "cell_type": "code",
   "execution_count": 8,
   "metadata": {},
   "outputs": [
    {
     "data": {
      "text/plain": [
       "Index(['1996-01-31', '1996-02-29', '1996-03-31', '1996-04-30', '1996-05-31',\n",
       "       '1996-06-30', '1996-07-31', '1996-08-31', '1996-09-30', '1996-10-31',\n",
       "       ...\n",
       "       '2019-09-30', '2019-10-31', '2019-11-30', '2019-12-31', '2020-01-31',\n",
       "       '2020-02-29', '2020-03-31', '2020-04-30', '2020-05-31', '2020-06-30'],\n",
       "      dtype='object', length=294)"
      ]
     },
     "execution_count": 8,
     "metadata": {},
     "output_type": "execute_result"
    }
   ],
   "source": [
    "cols_time = zillow_data.columns[9:zillow_data.shape[1]]\n",
    "cols_time"
   ]
  },
  {
   "cell_type": "markdown",
   "metadata": {},
   "source": [
    "Some calculations to determine the number of null values in the time series."
   ]
  },
  {
   "cell_type": "code",
   "execution_count": 9,
   "metadata": {},
   "outputs": [
    {
     "data": {
      "text/plain": [
       "2106108"
      ]
     },
     "execution_count": 9,
     "metadata": {},
     "output_type": "execute_result"
    }
   ],
   "source": [
    "# number of nulls\n",
    "zillow_data[cols_time].isnull().sum(1).sum()"
   ]
  },
  {
   "cell_type": "code",
   "execution_count": 10,
   "metadata": {},
   "outputs": [
    {
     "data": {
      "text/plain": [
       "8950242"
      ]
     },
     "execution_count": 10,
     "metadata": {},
     "output_type": "execute_result"
    }
   ],
   "source": [
    "# number of possible values\n",
    "zillow_data.shape[0]*len(cols_time)"
   ]
  },
  {
   "cell_type": "code",
   "execution_count": 11,
   "metadata": {},
   "outputs": [
    {
     "data": {
      "text/plain": [
       "6849534"
      ]
     },
     "execution_count": 11,
     "metadata": {},
     "output_type": "execute_result"
    }
   ],
   "source": [
    "# number of non-null values\n",
    "8960532-2110998"
   ]
  },
  {
   "cell_type": "markdown",
   "metadata": {},
   "source": [
    "Completing calculations for the monthly percentage increase in the Zillow Housing Value Index (ZHVI). The formula used will be:\n",
    "\n",
    "\n",
    "<div align=\"center\">Pct Increase i = 100x(zhvi_(i)-zhvi(i-1))/zhvi(i-1).</div>\n",
    "\n",
    "\n",
    "Therefore, if the value is 100 in month _i-1_ and 110 in month _i_, the result will be 100x(110-100)/100 = 10%."
   ]
  },
  {
   "cell_type": "code",
   "execution_count": 12,
   "metadata": {},
   "outputs": [],
   "source": [
    "zillow_mon_pct_val = pd.DataFrame()"
   ]
  },
  {
   "cell_type": "code",
   "execution_count": 13,
   "metadata": {},
   "outputs": [],
   "source": [
    "zillow_mon_pct_val['GEOID10_str'] = zillow_data['RegionName'].apply(lambda x: '{0:0>5}'.format(x))"
   ]
  },
  {
   "cell_type": "code",
   "execution_count": 15,
   "metadata": {},
   "outputs": [],
   "source": [
    "# will loop over the time columns\n",
    "# first itertation takes second month relative to first month\n",
    "# i index not over whole range because need to have one less month for the percentages\n",
    "for i in range(len(cols_time)-1):\n",
    "    zillow_mon_pct_val[cols_time[i+1]] = 100*(zillow_data[cols_time[i+1]]-zillow_data[cols_time[i]])/(zillow_data[cols_time[i]])"
   ]
  },
  {
   "cell_type": "code",
   "execution_count": 16,
   "metadata": {},
   "outputs": [
    {
     "data": {
      "text/html": [
       "<div>\n",
       "<style scoped>\n",
       "    .dataframe tbody tr th:only-of-type {\n",
       "        vertical-align: middle;\n",
       "    }\n",
       "\n",
       "    .dataframe tbody tr th {\n",
       "        vertical-align: top;\n",
       "    }\n",
       "\n",
       "    .dataframe thead th {\n",
       "        text-align: right;\n",
       "    }\n",
       "</style>\n",
       "<table border=\"1\" class=\"dataframe\">\n",
       "  <thead>\n",
       "    <tr style=\"text-align: right;\">\n",
       "      <th></th>\n",
       "      <th>GEOID10_str</th>\n",
       "      <th>1996-02-29</th>\n",
       "      <th>1996-03-31</th>\n",
       "      <th>1996-04-30</th>\n",
       "      <th>1996-05-31</th>\n",
       "      <th>1996-06-30</th>\n",
       "      <th>1996-07-31</th>\n",
       "      <th>1996-08-31</th>\n",
       "      <th>1996-09-30</th>\n",
       "      <th>1996-10-31</th>\n",
       "      <th>...</th>\n",
       "      <th>2019-09-30</th>\n",
       "      <th>2019-10-31</th>\n",
       "      <th>2019-11-30</th>\n",
       "      <th>2019-12-31</th>\n",
       "      <th>2020-01-31</th>\n",
       "      <th>2020-02-29</th>\n",
       "      <th>2020-03-31</th>\n",
       "      <th>2020-04-30</th>\n",
       "      <th>2020-05-31</th>\n",
       "      <th>2020-06-30</th>\n",
       "    </tr>\n",
       "  </thead>\n",
       "  <tbody>\n",
       "    <tr>\n",
       "      <td>0</td>\n",
       "      <td>10025</td>\n",
       "      <td>-0.622468</td>\n",
       "      <td>0.033648</td>\n",
       "      <td>-0.010781</td>\n",
       "      <td>0.228580</td>\n",
       "      <td>0.277544</td>\n",
       "      <td>-0.048918</td>\n",
       "      <td>0.350754</td>\n",
       "      <td>0.151876</td>\n",
       "      <td>0.694578</td>\n",
       "      <td>...</td>\n",
       "      <td>-1.321208</td>\n",
       "      <td>-1.127738</td>\n",
       "      <td>-0.354220</td>\n",
       "      <td>-0.278399</td>\n",
       "      <td>-1.503670</td>\n",
       "      <td>-2.091515</td>\n",
       "      <td>-2.693535</td>\n",
       "      <td>-1.391954</td>\n",
       "      <td>-1.227531</td>\n",
       "      <td>-0.749365</td>\n",
       "    </tr>\n",
       "    <tr>\n",
       "      <td>1</td>\n",
       "      <td>60657</td>\n",
       "      <td>-0.074145</td>\n",
       "      <td>-0.194243</td>\n",
       "      <td>-0.064400</td>\n",
       "      <td>-0.268664</td>\n",
       "      <td>0.087896</td>\n",
       "      <td>-0.101585</td>\n",
       "      <td>0.289858</td>\n",
       "      <td>0.424054</td>\n",
       "      <td>0.717140</td>\n",
       "      <td>...</td>\n",
       "      <td>-0.173436</td>\n",
       "      <td>-0.190120</td>\n",
       "      <td>-0.196764</td>\n",
       "      <td>-0.159995</td>\n",
       "      <td>-0.033352</td>\n",
       "      <td>0.214825</td>\n",
       "      <td>0.283993</td>\n",
       "      <td>0.151614</td>\n",
       "      <td>-0.044465</td>\n",
       "      <td>-0.022445</td>\n",
       "    </tr>\n",
       "    <tr>\n",
       "      <td>2</td>\n",
       "      <td>10023</td>\n",
       "      <td>0.020751</td>\n",
       "      <td>0.055324</td>\n",
       "      <td>0.356155</td>\n",
       "      <td>0.516132</td>\n",
       "      <td>0.420378</td>\n",
       "      <td>0.138870</td>\n",
       "      <td>0.041684</td>\n",
       "      <td>0.157450</td>\n",
       "      <td>0.297205</td>\n",
       "      <td>...</td>\n",
       "      <td>-1.215343</td>\n",
       "      <td>-0.745062</td>\n",
       "      <td>0.262560</td>\n",
       "      <td>1.630651</td>\n",
       "      <td>1.583128</td>\n",
       "      <td>0.977344</td>\n",
       "      <td>-0.186492</td>\n",
       "      <td>0.546060</td>\n",
       "      <td>0.137881</td>\n",
       "      <td>0.092207</td>\n",
       "    </tr>\n",
       "    <tr>\n",
       "      <td>3</td>\n",
       "      <td>77494</td>\n",
       "      <td>0.123734</td>\n",
       "      <td>-0.098167</td>\n",
       "      <td>-0.593074</td>\n",
       "      <td>-0.571021</td>\n",
       "      <td>-0.336102</td>\n",
       "      <td>0.386353</td>\n",
       "      <td>-0.157881</td>\n",
       "      <td>-0.329901</td>\n",
       "      <td>-0.400436</td>\n",
       "      <td>...</td>\n",
       "      <td>0.046731</td>\n",
       "      <td>0.011305</td>\n",
       "      <td>-0.005057</td>\n",
       "      <td>0.027369</td>\n",
       "      <td>-0.081788</td>\n",
       "      <td>0.057745</td>\n",
       "      <td>0.136247</td>\n",
       "      <td>0.316983</td>\n",
       "      <td>0.273633</td>\n",
       "      <td>0.170407</td>\n",
       "    </tr>\n",
       "    <tr>\n",
       "      <td>4</td>\n",
       "      <td>60614</td>\n",
       "      <td>-0.091486</td>\n",
       "      <td>-0.184188</td>\n",
       "      <td>-0.050421</td>\n",
       "      <td>-0.241024</td>\n",
       "      <td>0.031254</td>\n",
       "      <td>-0.175882</td>\n",
       "      <td>0.200458</td>\n",
       "      <td>0.384671</td>\n",
       "      <td>0.688425</td>\n",
       "      <td>...</td>\n",
       "      <td>-0.184404</td>\n",
       "      <td>-0.146682</td>\n",
       "      <td>-0.213063</td>\n",
       "      <td>-0.208860</td>\n",
       "      <td>-0.065201</td>\n",
       "      <td>0.002803</td>\n",
       "      <td>0.035346</td>\n",
       "      <td>-0.157832</td>\n",
       "      <td>-0.169151</td>\n",
       "      <td>-0.163035</td>\n",
       "    </tr>\n",
       "  </tbody>\n",
       "</table>\n",
       "<p>5 rows × 294 columns</p>\n",
       "</div>"
      ],
      "text/plain": [
       "  GEOID10_str  1996-02-29  1996-03-31  1996-04-30  1996-05-31  1996-06-30  \\\n",
       "0       10025   -0.622468    0.033648   -0.010781    0.228580    0.277544   \n",
       "1       60657   -0.074145   -0.194243   -0.064400   -0.268664    0.087896   \n",
       "2       10023    0.020751    0.055324    0.356155    0.516132    0.420378   \n",
       "3       77494    0.123734   -0.098167   -0.593074   -0.571021   -0.336102   \n",
       "4       60614   -0.091486   -0.184188   -0.050421   -0.241024    0.031254   \n",
       "\n",
       "   1996-07-31  1996-08-31  1996-09-30  1996-10-31  ...  2019-09-30  \\\n",
       "0   -0.048918    0.350754    0.151876    0.694578  ...   -1.321208   \n",
       "1   -0.101585    0.289858    0.424054    0.717140  ...   -0.173436   \n",
       "2    0.138870    0.041684    0.157450    0.297205  ...   -1.215343   \n",
       "3    0.386353   -0.157881   -0.329901   -0.400436  ...    0.046731   \n",
       "4   -0.175882    0.200458    0.384671    0.688425  ...   -0.184404   \n",
       "\n",
       "   2019-10-31  2019-11-30  2019-12-31  2020-01-31  2020-02-29  2020-03-31  \\\n",
       "0   -1.127738   -0.354220   -0.278399   -1.503670   -2.091515   -2.693535   \n",
       "1   -0.190120   -0.196764   -0.159995   -0.033352    0.214825    0.283993   \n",
       "2   -0.745062    0.262560    1.630651    1.583128    0.977344   -0.186492   \n",
       "3    0.011305   -0.005057    0.027369   -0.081788    0.057745    0.136247   \n",
       "4   -0.146682   -0.213063   -0.208860   -0.065201    0.002803    0.035346   \n",
       "\n",
       "   2020-04-30  2020-05-31  2020-06-30  \n",
       "0   -1.391954   -1.227531   -0.749365  \n",
       "1    0.151614   -0.044465   -0.022445  \n",
       "2    0.546060    0.137881    0.092207  \n",
       "3    0.316983    0.273633    0.170407  \n",
       "4   -0.157832   -0.169151   -0.163035  \n",
       "\n",
       "[5 rows x 294 columns]"
      ]
     },
     "execution_count": 16,
     "metadata": {},
     "output_type": "execute_result"
    }
   ],
   "source": [
    "zillow_mon_pct_val.head()"
   ]
  },
  {
   "cell_type": "code",
   "execution_count": 18,
   "metadata": {},
   "outputs": [],
   "source": [
    "os.chdir('/Users/calvinwhealton/Documents/GitHub/tdi_capstone/data/processed')\n",
    "zillow_mon_pct_val.to_csv('zillow_mon_pct_val.csv')"
   ]
  }
 ],
 "metadata": {
  "kernelspec": {
   "display_name": "Python 3",
   "language": "python",
   "name": "python3"
  },
  "language_info": {
   "codemirror_mode": {
    "name": "ipython",
    "version": 3
   },
   "file_extension": ".py",
   "mimetype": "text/x-python",
   "name": "python",
   "nbconvert_exporter": "python",
   "pygments_lexer": "ipython3",
   "version": "3.7.4"
  }
 },
 "nbformat": 4,
 "nbformat_minor": 2
}
