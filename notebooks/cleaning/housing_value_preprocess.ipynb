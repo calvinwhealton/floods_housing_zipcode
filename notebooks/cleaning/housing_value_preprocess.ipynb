{
 "cells": [
  {
   "cell_type": "markdown",
   "metadata": {},
   "source": [
    "# Housing Data Preprocessing\n",
    "_Calvin Whealton_"
   ]
  },
  {
   "cell_type": "markdown",
   "metadata": {},
   "source": [
    "This notebook takes the raw Zillow housing data and converts it into an monthly precentage change in the housing value. The Zillow data is available from https://www.zillow.com/research/data/ and specifically the Zillow Home Value Index (ZHVI) is used in this analysis. The result of this notebook will be a incorporated in the feature matrix for each zip code-time interval and in the predictions following floods."
   ]
  },
  {
   "cell_type": "code",
   "execution_count": null,
   "metadata": {},
   "outputs": [],
   "source": [
    "import pandas as pd \n",
    "import numpy as np\n",
    "import os"
   ]
  },
  {
   "cell_type": "markdown",
   "metadata": {},
   "source": [
    "Reading file from the designated URL."
   ]
  },
  {
   "cell_type": "code",
   "execution_count": null,
   "metadata": {},
   "outputs": [],
   "source": [
    "zillow_data = pd.read_csv('http://files.zillowstatic.com/research/public_v2/zhvi/Zip_zhvi_uc_sfrcondo_tier_0.33_0.67_sm_sa_mon.csv')"
   ]
  },
  {
   "cell_type": "code",
   "execution_count": null,
   "metadata": {},
   "outputs": [],
   "source": [
    "zillow_data.head()"
   ]
  },
  {
   "cell_type": "markdown",
   "metadata": {},
   "source": [
    "Extracting the column codes that indicate time index."
   ]
  },
  {
   "cell_type": "code",
   "execution_count": null,
   "metadata": {},
   "outputs": [],
   "source": [
    "cols_time = zillow_data.columns[9:zillow_data.shape[1]]\n",
    "cols_time"
   ]
  },
  {
   "cell_type": "markdown",
   "metadata": {},
   "source": [
    "Some calculations to determine the number of null values in the time series."
   ]
  },
  {
   "cell_type": "code",
   "execution_count": null,
   "metadata": {},
   "outputs": [],
   "source": [
    "# number of nulls\n",
    "zillow_data[cols_time].isnull().sum(1).sum()"
   ]
  },
  {
   "cell_type": "code",
   "execution_count": null,
   "metadata": {},
   "outputs": [],
   "source": [
    "# number of possible values\n",
    "zillow_data.shape[0]*len(cols_time)"
   ]
  },
  {
   "cell_type": "code",
   "execution_count": null,
   "metadata": {},
   "outputs": [],
   "source": [
    "# number of non-null values\n",
    "8960532-2110998"
   ]
  },
  {
   "cell_type": "markdown",
   "metadata": {},
   "source": [
    "Completing calculations for the monthly percentage increase in the Zillow Housing Value Index (ZHVI). The formula used will be:\n",
    "\n",
    "\n",
    "<div align=\"center\">Pct Increase i = 100x(zhvi_(i)-zhvi(i-1))/zhvi(i-1).</div>\n",
    "\n",
    "\n",
    "Therefore, if the value is 100 in month _i-1_ and 110 in month _i_, the result will be 100x(110-100)/100 = 10%."
   ]
  },
  {
   "cell_type": "markdown",
   "metadata": {},
   "source": [
    "Making a new dataframe that will hold the month-over-month percent difference."
   ]
  },
  {
   "cell_type": "code",
   "execution_count": null,
   "metadata": {},
   "outputs": [],
   "source": [
    "zillow_mon_pct_val = pd.DataFrame()"
   ]
  },
  {
   "cell_type": "code",
   "execution_count": null,
   "metadata": {},
   "outputs": [],
   "source": [
    "zillow_mon_pct_val['GEOID10_str'] = zillow_data['RegionName'].apply(lambda x: '{0:0>5}'.format(x))"
   ]
  },
  {
   "cell_type": "code",
   "execution_count": null,
   "metadata": {},
   "outputs": [],
   "source": [
    "# will loop over the time columns\n",
    "# first itertation takes second month relative to first month\n",
    "# i index not over whole range because need to have one less month for the percentages\n",
    "for i in range(len(cols_time)-1):\n",
    "    zillow_mon_pct_val[cols_time[i+1]] = 100*(zillow_data[cols_time[i+1]]-zillow_data[cols_time[i]])/(zillow_data[cols_time[i]])"
   ]
  },
  {
   "cell_type": "code",
   "execution_count": null,
   "metadata": {},
   "outputs": [],
   "source": [
    "zillow_mon_pct_val.head()"
   ]
  },
  {
   "cell_type": "markdown",
   "metadata": {},
   "source": [
    "Saving data"
   ]
  },
  {
   "cell_type": "code",
   "execution_count": null,
   "metadata": {},
   "outputs": [],
   "source": [
    "os.chdir('/Users/calvinwhealton/Documents/GitHub/floods_housing_zipcode/data/processed_data')\n",
    "zillow_mon_pct_val.to_csv('zillow_mon_pct_val.csv')"
   ]
  }
 ],
 "metadata": {
  "kernelspec": {
   "display_name": "Python 3",
   "language": "python",
   "name": "python3"
  },
  "language_info": {
   "codemirror_mode": {
    "name": "ipython",
    "version": 3
   },
   "file_extension": ".py",
   "mimetype": "text/x-python",
   "name": "python",
   "nbconvert_exporter": "python",
   "pygments_lexer": "ipython3",
   "version": "3.7.4"
  }
 },
 "nbformat": 4,
 "nbformat_minor": 2
}
