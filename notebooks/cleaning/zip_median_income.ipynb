{
 "cells": [
  {
   "cell_type": "markdown",
   "metadata": {},
   "source": [
    "# Zip Code Median Income\n",
    "_Calvin Whealton_"
   ]
  },
  {
   "cell_type": "markdown",
   "metadata": {},
   "source": [
    "This notebook combines the data from the US Census American Community Survey 2018. The data were downloaded from the US Census website, specifically tables S1901 for each of the 48 contiguous states and Washington, DC."
   ]
  },
  {
   "cell_type": "markdown",
   "metadata": {},
   "source": [
    "Because the data is available at the county subdivision, but not the zip code, the values must be spatially disaggregated and summed. This is accomplished by using a file that maps between the zip code and the county subdivision."
   ]
  },
  {
   "cell_type": "code",
   "execution_count": 2,
   "metadata": {},
   "outputs": [],
   "source": [
    "import numpy as np\n",
    "import pandas as pd\n",
    "import geopandas as gpd\n",
    "import os"
   ]
  },
  {
   "cell_type": "markdown",
   "metadata": {},
   "source": [
    "## Stitching State Data Together"
   ]
  },
  {
   "cell_type": "markdown",
   "metadata": {},
   "source": [
    "This section merges the files together to make one file that is the median income. There are many more data fields that are not processed. The column for median income estimate for the county subdivision is S1901_C01_012E."
   ]
  },
  {
   "cell_type": "code",
   "execution_count": 5,
   "metadata": {},
   "outputs": [],
   "source": [
    "os.chdir('/Users/calvinwhealton/Documents/GitHub/tdi_capstone/data/us_census_s1901_income/csvs')"
   ]
  },
  {
   "cell_type": "code",
   "execution_count": 9,
   "metadata": {},
   "outputs": [],
   "source": [
    "state_incs_list = os.listdir()"
   ]
  },
  {
   "cell_type": "code",
   "execution_count": 24,
   "metadata": {},
   "outputs": [],
   "source": [
    "# dataframe for values of median income in each county subdivision\n",
    "state_medinc_cousub = pd.DataFrame(columns=['GEOID_COUSUB','med_hh_inc'])"
   ]
  },
  {
   "cell_type": "code",
   "execution_count": 25,
   "metadata": {},
   "outputs": [],
   "source": [
    "# loop over all files (states)\n",
    "for file in state_incs_list:\n",
    "    \n",
    "    # row 1 has explanation/long captions for column titles\n",
    "    state_inc = pd.read_csv(file,skiprows=[1])\n",
    "    \n",
    "    # dictionary of values from the state\n",
    "    state_med = pd.DataFrame({'GEOID_COUSUB':state_inc['GEO_ID'],\n",
    "                              'med_hh_inc':state_inc['S1901_C01_012E']})\n",
    "    \n",
    "    # appending values to the large state dataframe\n",
    "    state_medinc_cousub = state_medinc_cousub.append(state_med,ignore_index=True)"
   ]
  },
  {
   "cell_type": "code",
   "execution_count": 27,
   "metadata": {},
   "outputs": [
    {
     "data": {
      "text/plain": [
       "(34413, 2)"
      ]
     },
     "execution_count": 27,
     "metadata": {},
     "output_type": "execute_result"
    }
   ],
   "source": [
    "state_medinc_cousub.shape"
   ]
  },
  {
   "cell_type": "code",
   "execution_count": 31,
   "metadata": {},
   "outputs": [
    {
     "data": {
      "text/plain": [
       "10"
      ]
     },
     "execution_count": 31,
     "metadata": {},
     "output_type": "execute_result"
    }
   ],
   "source": [
    "state_medinc_cousub.isnull().sum(axis=0).sum()"
   ]
  },
  {
   "cell_type": "code",
   "execution_count": null,
   "metadata": {},
   "outputs": [],
   "source": [
    "state_medinc_cousub = state_medinc_cousub.dropna"
   ]
  },
  {
   "cell_type": "code",
   "execution_count": 51,
   "metadata": {},
   "outputs": [
    {
     "data": {
      "text/html": [
       "<div>\n",
       "<style scoped>\n",
       "    .dataframe tbody tr th:only-of-type {\n",
       "        vertical-align: middle;\n",
       "    }\n",
       "\n",
       "    .dataframe tbody tr th {\n",
       "        vertical-align: top;\n",
       "    }\n",
       "\n",
       "    .dataframe thead th {\n",
       "        text-align: right;\n",
       "    }\n",
       "</style>\n",
       "<table border=\"1\" class=\"dataframe\">\n",
       "  <thead>\n",
       "    <tr style=\"text-align: right;\">\n",
       "      <th></th>\n",
       "      <th>GEOID_COUSUB</th>\n",
       "      <th>med_hh_inc</th>\n",
       "    </tr>\n",
       "  </thead>\n",
       "  <tbody>\n",
       "    <tr>\n",
       "      <td>0</td>\n",
       "      <td>0600000US5100191196</td>\n",
       "      <td>48639</td>\n",
       "    </tr>\n",
       "    <tr>\n",
       "      <td>1</td>\n",
       "      <td>0600000US5100191346</td>\n",
       "      <td>49821</td>\n",
       "    </tr>\n",
       "    <tr>\n",
       "      <td>2</td>\n",
       "      <td>0600000US5100191496</td>\n",
       "      <td>35845</td>\n",
       "    </tr>\n",
       "    <tr>\n",
       "      <td>3</td>\n",
       "      <td>0600000US5100191646</td>\n",
       "      <td>39019</td>\n",
       "    </tr>\n",
       "    <tr>\n",
       "      <td>4</td>\n",
       "      <td>0600000US5100191796</td>\n",
       "      <td>44063</td>\n",
       "    </tr>\n",
       "  </tbody>\n",
       "</table>\n",
       "</div>"
      ],
      "text/plain": [
       "          GEOID_COUSUB med_hh_inc\n",
       "0  0600000US5100191196      48639\n",
       "1  0600000US5100191346      49821\n",
       "2  0600000US5100191496      35845\n",
       "3  0600000US5100191646      39019\n",
       "4  0600000US5100191796      44063"
      ]
     },
     "execution_count": 51,
     "metadata": {},
     "output_type": "execute_result"
    }
   ],
   "source": [
    "state_medinc_cousub.head()"
   ]
  },
  {
   "cell_type": "code",
   "execution_count": 53,
   "metadata": {},
   "outputs": [],
   "source": [
    "state_medinc_cousub['GEOID_CS'] = [string.split('US')[1] for string in state_medinc_cousub['GEOID_COUSUB']]"
   ]
  },
  {
   "cell_type": "code",
   "execution_count": 54,
   "metadata": {},
   "outputs": [
    {
     "data": {
      "text/html": [
       "<div>\n",
       "<style scoped>\n",
       "    .dataframe tbody tr th:only-of-type {\n",
       "        vertical-align: middle;\n",
       "    }\n",
       "\n",
       "    .dataframe tbody tr th {\n",
       "        vertical-align: top;\n",
       "    }\n",
       "\n",
       "    .dataframe thead th {\n",
       "        text-align: right;\n",
       "    }\n",
       "</style>\n",
       "<table border=\"1\" class=\"dataframe\">\n",
       "  <thead>\n",
       "    <tr style=\"text-align: right;\">\n",
       "      <th></th>\n",
       "      <th>GEOID_COUSUB</th>\n",
       "      <th>med_hh_inc</th>\n",
       "      <th>GEOID_CS</th>\n",
       "    </tr>\n",
       "  </thead>\n",
       "  <tbody>\n",
       "    <tr>\n",
       "      <td>0</td>\n",
       "      <td>0600000US5100191196</td>\n",
       "      <td>48639</td>\n",
       "      <td>5100191196</td>\n",
       "    </tr>\n",
       "    <tr>\n",
       "      <td>1</td>\n",
       "      <td>0600000US5100191346</td>\n",
       "      <td>49821</td>\n",
       "      <td>5100191346</td>\n",
       "    </tr>\n",
       "    <tr>\n",
       "      <td>2</td>\n",
       "      <td>0600000US5100191496</td>\n",
       "      <td>35845</td>\n",
       "      <td>5100191496</td>\n",
       "    </tr>\n",
       "    <tr>\n",
       "      <td>3</td>\n",
       "      <td>0600000US5100191646</td>\n",
       "      <td>39019</td>\n",
       "      <td>5100191646</td>\n",
       "    </tr>\n",
       "    <tr>\n",
       "      <td>4</td>\n",
       "      <td>0600000US5100191796</td>\n",
       "      <td>44063</td>\n",
       "      <td>5100191796</td>\n",
       "    </tr>\n",
       "  </tbody>\n",
       "</table>\n",
       "</div>"
      ],
      "text/plain": [
       "          GEOID_COUSUB med_hh_inc    GEOID_CS\n",
       "0  0600000US5100191196      48639  5100191196\n",
       "1  0600000US5100191346      49821  5100191346\n",
       "2  0600000US5100191496      35845  5100191496\n",
       "3  0600000US5100191646      39019  5100191646\n",
       "4  0600000US5100191796      44063  5100191796"
      ]
     },
     "execution_count": 54,
     "metadata": {},
     "output_type": "execute_result"
    }
   ],
   "source": [
    "state_medinc_cousub.head()"
   ]
  },
  {
   "cell_type": "code",
   "execution_count": 32,
   "metadata": {},
   "outputs": [],
   "source": [
    "os.chdir('/Users/calvinwhealton/Documents/GitHub/tdi_capstone/data/processed')\n",
    "state_medinc_cousub.to_csv('state_medinc_cousub.csv')"
   ]
  },
  {
   "cell_type": "markdown",
   "metadata": {},
   "source": [
    "# Aggregating/Disaggregating to Zip Code"
   ]
  },
  {
   "cell_type": "markdown",
   "metadata": {},
   "source": [
    "The median household income for a zip code will be assigned as the median income based on a population-weighted median income for the zip codes that share the value. For example, if zip code 12345 is composed of 40% of the population from county subdivision 23 with median income 10,000 and 60%  from county subdivision 45 with median income 20,000, then the estimated median income for the zip code will be 10,000x0.4 + 20,000x0.6 = 4,000 + 12,000 = 16,000. In the case where some county subdivisions do not have data, the fractions are normalized to sum to 1."
   ]
  },
  {
   "cell_type": "code",
   "execution_count": 33,
   "metadata": {},
   "outputs": [],
   "source": [
    "os.chdir('/Users/calvinwhealton/Documents/GitHub/tdi_capstone/data/zcta_to_countysub')\n",
    "\n",
    "zcta_cousub_map = pd.read_csv('zcta_countysub_uscensus.txt')"
   ]
  },
  {
   "cell_type": "code",
   "execution_count": 34,
   "metadata": {},
   "outputs": [
    {
     "data": {
      "text/html": [
       "<div>\n",
       "<style scoped>\n",
       "    .dataframe tbody tr th:only-of-type {\n",
       "        vertical-align: middle;\n",
       "    }\n",
       "\n",
       "    .dataframe tbody tr th {\n",
       "        vertical-align: top;\n",
       "    }\n",
       "\n",
       "    .dataframe thead th {\n",
       "        text-align: right;\n",
       "    }\n",
       "</style>\n",
       "<table border=\"1\" class=\"dataframe\">\n",
       "  <thead>\n",
       "    <tr style=\"text-align: right;\">\n",
       "      <th></th>\n",
       "      <th>ZCTA5</th>\n",
       "      <th>STATE</th>\n",
       "      <th>COUNTY</th>\n",
       "      <th>COUSUB</th>\n",
       "      <th>CLASSFP</th>\n",
       "      <th>GEOID</th>\n",
       "      <th>POPPT</th>\n",
       "      <th>HUPT</th>\n",
       "      <th>AREAPT</th>\n",
       "      <th>AREALANDPT</th>\n",
       "      <th>...</th>\n",
       "      <th>CSAREA</th>\n",
       "      <th>CSAREALAND</th>\n",
       "      <th>ZPOPPCT</th>\n",
       "      <th>ZHUPCT</th>\n",
       "      <th>ZAREAPCT</th>\n",
       "      <th>ZAREALANDPCT</th>\n",
       "      <th>CSPOPPCT</th>\n",
       "      <th>CSHUPCT</th>\n",
       "      <th>CSAREAPCT</th>\n",
       "      <th>CSAREALANDPCT</th>\n",
       "    </tr>\n",
       "  </thead>\n",
       "  <tbody>\n",
       "    <tr>\n",
       "      <td>0</td>\n",
       "      <td>601</td>\n",
       "      <td>72</td>\n",
       "      <td>1</td>\n",
       "      <td>401</td>\n",
       "      <td>Z1</td>\n",
       "      <td>7200100401</td>\n",
       "      <td>4406</td>\n",
       "      <td>1968</td>\n",
       "      <td>1942319</td>\n",
       "      <td>1942319</td>\n",
       "      <td>...</td>\n",
       "      <td>1942319</td>\n",
       "      <td>1942319</td>\n",
       "      <td>23.73</td>\n",
       "      <td>25.41</td>\n",
       "      <td>1.16</td>\n",
       "      <td>1.17</td>\n",
       "      <td>100.00</td>\n",
       "      <td>100.00</td>\n",
       "      <td>100.00</td>\n",
       "      <td>100.00</td>\n",
       "    </tr>\n",
       "    <tr>\n",
       "      <td>1</td>\n",
       "      <td>601</td>\n",
       "      <td>72</td>\n",
       "      <td>1</td>\n",
       "      <td>13645</td>\n",
       "      <td>Z1</td>\n",
       "      <td>7200113645</td>\n",
       "      <td>1038</td>\n",
       "      <td>425</td>\n",
       "      <td>9420707</td>\n",
       "      <td>9387179</td>\n",
       "      <td>...</td>\n",
       "      <td>9494851</td>\n",
       "      <td>9461323</td>\n",
       "      <td>5.59</td>\n",
       "      <td>5.49</td>\n",
       "      <td>5.63</td>\n",
       "      <td>5.63</td>\n",
       "      <td>98.48</td>\n",
       "      <td>97.93</td>\n",
       "      <td>99.22</td>\n",
       "      <td>99.22</td>\n",
       "    </tr>\n",
       "    <tr>\n",
       "      <td>2</td>\n",
       "      <td>601</td>\n",
       "      <td>72</td>\n",
       "      <td>1</td>\n",
       "      <td>30458</td>\n",
       "      <td>Z1</td>\n",
       "      <td>7200130458</td>\n",
       "      <td>1337</td>\n",
       "      <td>509</td>\n",
       "      <td>16497991</td>\n",
       "      <td>16271520</td>\n",
       "      <td>...</td>\n",
       "      <td>16497991</td>\n",
       "      <td>16271520</td>\n",
       "      <td>7.20</td>\n",
       "      <td>6.57</td>\n",
       "      <td>9.85</td>\n",
       "      <td>9.76</td>\n",
       "      <td>100.00</td>\n",
       "      <td>100.00</td>\n",
       "      <td>100.00</td>\n",
       "      <td>100.00</td>\n",
       "    </tr>\n",
       "    <tr>\n",
       "      <td>3</td>\n",
       "      <td>601</td>\n",
       "      <td>72</td>\n",
       "      <td>1</td>\n",
       "      <td>32049</td>\n",
       "      <td>Z1</td>\n",
       "      <td>7200132049</td>\n",
       "      <td>140</td>\n",
       "      <td>60</td>\n",
       "      <td>7312819</td>\n",
       "      <td>6974412</td>\n",
       "      <td>...</td>\n",
       "      <td>7312952</td>\n",
       "      <td>6974412</td>\n",
       "      <td>0.75</td>\n",
       "      <td>0.77</td>\n",
       "      <td>4.37</td>\n",
       "      <td>4.18</td>\n",
       "      <td>100.00</td>\n",
       "      <td>100.00</td>\n",
       "      <td>100.00</td>\n",
       "      <td>100.00</td>\n",
       "    </tr>\n",
       "    <tr>\n",
       "      <td>4</td>\n",
       "      <td>601</td>\n",
       "      <td>72</td>\n",
       "      <td>1</td>\n",
       "      <td>32608</td>\n",
       "      <td>Z1</td>\n",
       "      <td>7200132608</td>\n",
       "      <td>254</td>\n",
       "      <td>115</td>\n",
       "      <td>2763743</td>\n",
       "      <td>2763743</td>\n",
       "      <td>...</td>\n",
       "      <td>7695788</td>\n",
       "      <td>7443424</td>\n",
       "      <td>1.37</td>\n",
       "      <td>1.49</td>\n",
       "      <td>1.65</td>\n",
       "      <td>1.66</td>\n",
       "      <td>29.78</td>\n",
       "      <td>31.17</td>\n",
       "      <td>35.91</td>\n",
       "      <td>37.13</td>\n",
       "    </tr>\n",
       "  </tbody>\n",
       "</table>\n",
       "<p>5 rows × 26 columns</p>\n",
       "</div>"
      ],
      "text/plain": [
       "   ZCTA5  STATE  COUNTY  COUSUB CLASSFP       GEOID  POPPT  HUPT    AREAPT  \\\n",
       "0    601     72       1     401      Z1  7200100401   4406  1968   1942319   \n",
       "1    601     72       1   13645      Z1  7200113645   1038   425   9420707   \n",
       "2    601     72       1   30458      Z1  7200130458   1337   509  16497991   \n",
       "3    601     72       1   32049      Z1  7200132049    140    60   7312819   \n",
       "4    601     72       1   32608      Z1  7200132608    254   115   2763743   \n",
       "\n",
       "   AREALANDPT  ...    CSAREA  CSAREALAND  ZPOPPCT  ZHUPCT  ZAREAPCT  \\\n",
       "0     1942319  ...   1942319     1942319    23.73   25.41      1.16   \n",
       "1     9387179  ...   9494851     9461323     5.59    5.49      5.63   \n",
       "2    16271520  ...  16497991    16271520     7.20    6.57      9.85   \n",
       "3     6974412  ...   7312952     6974412     0.75    0.77      4.37   \n",
       "4     2763743  ...   7695788     7443424     1.37    1.49      1.65   \n",
       "\n",
       "   ZAREALANDPCT  CSPOPPCT  CSHUPCT  CSAREAPCT  CSAREALANDPCT  \n",
       "0          1.17    100.00   100.00     100.00         100.00  \n",
       "1          5.63     98.48    97.93      99.22          99.22  \n",
       "2          9.76    100.00   100.00     100.00         100.00  \n",
       "3          4.18    100.00   100.00     100.00         100.00  \n",
       "4          1.66     29.78    31.17      35.91          37.13  \n",
       "\n",
       "[5 rows x 26 columns]"
      ]
     },
     "execution_count": 34,
     "metadata": {},
     "output_type": "execute_result"
    }
   ],
   "source": [
    "zcta_cousub_map.head()"
   ]
  },
  {
   "cell_type": "code",
   "execution_count": 140,
   "metadata": {},
   "outputs": [],
   "source": [
    "zip_med_inc = pd.DataFrame(columns=['zip','med_hh_inc'])"
   ]
  },
  {
   "cell_type": "code",
   "execution_count": 151,
   "metadata": {},
   "outputs": [
    {
     "name": "stderr",
     "output_type": "stream",
     "text": [
      "/opt/anaconda3/lib/python3.7/site-packages/ipykernel_launcher.py:25: SettingWithCopyWarning: \n",
      "A value is trying to be set on a copy of a slice from a DataFrame.\n",
      "Try using .loc[row_indexer,col_indexer] = value instead\n",
      "\n",
      "See the caveats in the documentation: http://pandas.pydata.org/pandas-docs/stable/user_guide/indexing.html#returning-a-view-versus-a-copy\n",
      "/opt/anaconda3/lib/python3.7/site-packages/ipykernel_launcher.py:41: RuntimeWarning: invalid value encountered in double_scalars\n"
     ]
    }
   ],
   "source": [
    "# unique values of zip code\n",
    "zip_use = zcta_cousub_map.ZCTA5.unique()\n",
    "\n",
    "\n",
    "# loop over every zip code\n",
    "for zc in zip_use:\n",
    "    \n",
    "    # used in calculations for each zip code\n",
    "    temp_df = pd.DataFrame()\n",
    "    \n",
    "    # geoids for the county\n",
    "    # casting to string to match string in other dataframe\n",
    "    cou_geoids = zcta_cousub_map.loc[zcta_cousub_map['ZCTA5'] == zc,'GEOID'].astype(str).values\n",
    "    cou_df = zcta_cousub_map.loc[zcta_cousub_map['ZCTA5'] == zc]\n",
    "    \n",
    "    # searching for geoids in the median income data\n",
    "    temp_df = state_medinc_cousub.loc[state_medinc_cousub['GEOID_CS'].isin(cou_geoids)]\n",
    "    \n",
    "    if temp_df.shape[0] == 0:\n",
    "        zip_med_inc = zip_med_inc.append({'zip':zc, 'med_hh_inc': np.NaN},ignore_index=True)\n",
    "        \n",
    "    else:\n",
    "        \n",
    "        # adding column for population fraction [0,100]\n",
    "        temp_df['pop_frac'] = 0\n",
    "        \n",
    "        #finding the fractions that match the county subdivisions\n",
    "        for i in temp_df.index:\n",
    "            temp_df.loc[i,'pop_frac'] = cou_df.loc[cou_df['GEOID'].values.astype(str) == temp_df.loc[i,'GEOID_CS'],'ZPOPPCT'].values\n",
    "        \n",
    "        # empty values removed\n",
    "        temp_df = temp_df[temp_df['med_hh_inc'] != '-']\n",
    "        \n",
    "        for i in temp_df.index:\n",
    "            if temp_df.loc[i,'med_hh_inc'] == '250,000+':\n",
    "                temp_df.loc[i,'med_hh_inc'] = '250000'\n",
    "            if temp_df.loc[i,'med_hh_inc'] == '2,500-':\n",
    "                temp_df.loc[i,'med_hh_inc'] = '2500'\n",
    "        \n",
    "        # estimate of the median income\n",
    "        est_med_inc = np.sum(np.array(temp_df['pop_frac'].values)*np.array(temp_df['med_hh_inc'].values.astype(float)))/(np.sum(np.array(temp_df['pop_frac'].values)))\n",
    "        \n",
    "        zip_med_inc = zip_med_inc.append({'zip':zc, 'med_hh_inc': est_med_inc},ignore_index=True)"
   ]
  },
  {
   "cell_type": "code",
   "execution_count": 152,
   "metadata": {},
   "outputs": [
    {
     "data": {
      "text/html": [
       "<div>\n",
       "<style scoped>\n",
       "    .dataframe tbody tr th:only-of-type {\n",
       "        vertical-align: middle;\n",
       "    }\n",
       "\n",
       "    .dataframe tbody tr th {\n",
       "        vertical-align: top;\n",
       "    }\n",
       "\n",
       "    .dataframe thead th {\n",
       "        text-align: right;\n",
       "    }\n",
       "</style>\n",
       "<table border=\"1\" class=\"dataframe\">\n",
       "  <thead>\n",
       "    <tr style=\"text-align: right;\">\n",
       "      <th></th>\n",
       "      <th>zip</th>\n",
       "      <th>med_hh_inc</th>\n",
       "    </tr>\n",
       "  </thead>\n",
       "  <tbody>\n",
       "    <tr>\n",
       "      <td>0</td>\n",
       "      <td>601.0</td>\n",
       "      <td>NaN</td>\n",
       "    </tr>\n",
       "    <tr>\n",
       "      <td>1</td>\n",
       "      <td>602.0</td>\n",
       "      <td>NaN</td>\n",
       "    </tr>\n",
       "    <tr>\n",
       "      <td>2</td>\n",
       "      <td>603.0</td>\n",
       "      <td>NaN</td>\n",
       "    </tr>\n",
       "    <tr>\n",
       "      <td>3</td>\n",
       "      <td>606.0</td>\n",
       "      <td>NaN</td>\n",
       "    </tr>\n",
       "    <tr>\n",
       "      <td>4</td>\n",
       "      <td>610.0</td>\n",
       "      <td>NaN</td>\n",
       "    </tr>\n",
       "  </tbody>\n",
       "</table>\n",
       "</div>"
      ],
      "text/plain": [
       "     zip  med_hh_inc\n",
       "0  601.0         NaN\n",
       "1  602.0         NaN\n",
       "2  603.0         NaN\n",
       "3  606.0         NaN\n",
       "4  610.0         NaN"
      ]
     },
     "execution_count": 152,
     "metadata": {},
     "output_type": "execute_result"
    }
   ],
   "source": [
    "zip_med_inc.head()"
   ]
  },
  {
   "cell_type": "code",
   "execution_count": 153,
   "metadata": {},
   "outputs": [
    {
     "data": {
      "text/html": [
       "<div>\n",
       "<style scoped>\n",
       "    .dataframe tbody tr th:only-of-type {\n",
       "        vertical-align: middle;\n",
       "    }\n",
       "\n",
       "    .dataframe tbody tr th {\n",
       "        vertical-align: top;\n",
       "    }\n",
       "\n",
       "    .dataframe thead th {\n",
       "        text-align: right;\n",
       "    }\n",
       "</style>\n",
       "<table border=\"1\" class=\"dataframe\">\n",
       "  <thead>\n",
       "    <tr style=\"text-align: right;\">\n",
       "      <th></th>\n",
       "      <th>index</th>\n",
       "      <th>zip</th>\n",
       "      <th>med_hh_inc</th>\n",
       "    </tr>\n",
       "  </thead>\n",
       "  <tbody>\n",
       "    <tr>\n",
       "      <td>0</td>\n",
       "      <td>0</td>\n",
       "      <td>601.0</td>\n",
       "      <td>NaN</td>\n",
       "    </tr>\n",
       "    <tr>\n",
       "      <td>1</td>\n",
       "      <td>1</td>\n",
       "      <td>602.0</td>\n",
       "      <td>NaN</td>\n",
       "    </tr>\n",
       "    <tr>\n",
       "      <td>2</td>\n",
       "      <td>2</td>\n",
       "      <td>603.0</td>\n",
       "      <td>NaN</td>\n",
       "    </tr>\n",
       "    <tr>\n",
       "      <td>3</td>\n",
       "      <td>3</td>\n",
       "      <td>606.0</td>\n",
       "      <td>NaN</td>\n",
       "    </tr>\n",
       "    <tr>\n",
       "      <td>4</td>\n",
       "      <td>4</td>\n",
       "      <td>610.0</td>\n",
       "      <td>NaN</td>\n",
       "    </tr>\n",
       "    <tr>\n",
       "      <td>...</td>\n",
       "      <td>...</td>\n",
       "      <td>...</td>\n",
       "      <td>...</td>\n",
       "    </tr>\n",
       "    <tr>\n",
       "      <td>38405</td>\n",
       "      <td>38405</td>\n",
       "      <td>99923.0</td>\n",
       "      <td>NaN</td>\n",
       "    </tr>\n",
       "    <tr>\n",
       "      <td>38406</td>\n",
       "      <td>38406</td>\n",
       "      <td>99925.0</td>\n",
       "      <td>NaN</td>\n",
       "    </tr>\n",
       "    <tr>\n",
       "      <td>38407</td>\n",
       "      <td>38407</td>\n",
       "      <td>99926.0</td>\n",
       "      <td>NaN</td>\n",
       "    </tr>\n",
       "    <tr>\n",
       "      <td>38408</td>\n",
       "      <td>38408</td>\n",
       "      <td>99927.0</td>\n",
       "      <td>NaN</td>\n",
       "    </tr>\n",
       "    <tr>\n",
       "      <td>38409</td>\n",
       "      <td>38409</td>\n",
       "      <td>99929.0</td>\n",
       "      <td>NaN</td>\n",
       "    </tr>\n",
       "  </tbody>\n",
       "</table>\n",
       "<p>38410 rows × 3 columns</p>\n",
       "</div>"
      ],
      "text/plain": [
       "       index      zip  med_hh_inc\n",
       "0          0    601.0         NaN\n",
       "1          1    602.0         NaN\n",
       "2          2    603.0         NaN\n",
       "3          3    606.0         NaN\n",
       "4          4    610.0         NaN\n",
       "...      ...      ...         ...\n",
       "38405  38405  99923.0         NaN\n",
       "38406  38406  99925.0         NaN\n",
       "38407  38407  99926.0         NaN\n",
       "38408  38408  99927.0         NaN\n",
       "38409  38409  99929.0         NaN\n",
       "\n",
       "[38410 rows x 3 columns]"
      ]
     },
     "execution_count": 153,
     "metadata": {},
     "output_type": "execute_result"
    }
   ],
   "source": [
    "zip_med_inc.reset_index()"
   ]
  },
  {
   "cell_type": "code",
   "execution_count": 154,
   "metadata": {},
   "outputs": [
    {
     "data": {
      "text/plain": [
       "38410"
      ]
     },
     "execution_count": 154,
     "metadata": {},
     "output_type": "execute_result"
    }
   ],
   "source": [
    "zip_med_inc.shape[0]"
   ]
  },
  {
   "cell_type": "code",
   "execution_count": 155,
   "metadata": {},
   "outputs": [],
   "source": [
    "zip_med_inc = zip_med_inc.dropna()"
   ]
  },
  {
   "cell_type": "code",
   "execution_count": 156,
   "metadata": {},
   "outputs": [],
   "source": [
    "os.chdir('/Users/calvinwhealton/Documents/GitHub/tdi_capstone/data/processed')\n",
    "\n",
    "zip_med_inc.to_csv('zips_med_inc.csv')"
   ]
  },
  {
   "cell_type": "code",
   "execution_count": null,
   "metadata": {},
   "outputs": [],
   "source": []
  }
 ],
 "metadata": {
  "kernelspec": {
   "display_name": "Python 3",
   "language": "python",
   "name": "python3"
  },
  "language_info": {
   "codemirror_mode": {
    "name": "ipython",
    "version": 3
   },
   "file_extension": ".py",
   "mimetype": "text/x-python",
   "name": "python",
   "nbconvert_exporter": "python",
   "pygments_lexer": "ipython3",
   "version": "3.7.4"
  }
 },
 "nbformat": 4,
 "nbformat_minor": 2
}
